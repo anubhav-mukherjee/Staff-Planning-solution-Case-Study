{
 "cells": [
  {
   "cell_type": "markdown",
   "metadata": {},
   "source": [
    "# Optimisation Case Study - Staff Planning\n",
    "\n",
    "    An insurance company InsurePlus wants us to help them with finding the optimal number of staff \n",
    "    for their insurance application approval process for the calendar year 2021.\n",
    "\n",
    "## Steps: \n",
    "    1 Reading data from Excel workbook\n",
    "    2 Data Preprocessing\n",
    "    3 Task related to Questions\n"
   ]
  },
  {
   "cell_type": "markdown",
   "metadata": {},
   "source": [
    "# Reading data from Excel workbook"
   ]
  },
  {
   "cell_type": "code",
   "execution_count": 1,
   "metadata": {},
   "outputs": [],
   "source": [
    "# Importing Libraries \n",
    "\n",
    "import pandas as pd\n",
    "import numpy as np\n",
    "import math\n",
    "from pyomo.environ import *"
   ]
  },
  {
   "cell_type": "code",
   "execution_count": 2,
   "metadata": {},
   "outputs": [],
   "source": [
    "from __future__ import division\n",
    "from pyomo.opt import SolverFactory"
   ]
  },
  {
   "cell_type": "code",
   "execution_count": 3,
   "metadata": {},
   "outputs": [],
   "source": [
    "# Reading the data from Excel workbook\n",
    "InputData=(r'C:\\Users\\anubhav\\Documents\\Python\\Business Requirements\\Optimisation Case Study - Staff Planning/Staffing+Data.xlsx')"
   ]
  },
  {
   "cell_type": "code",
   "execution_count": 4,
   "metadata": {},
   "outputs": [],
   "source": [
    "MyDemandList = pd.read_excel(InputData,sheet_name=\"DemandData\")\n",
    "StaffAvail = pd.read_excel(InputData,sheet_name=\"StaffAvailability\")\n",
    "Cost = pd.read_excel(InputData,sheet_name=\"Cost\")\n",
    "ServiceRate = pd.read_excel(InputData,sheet_name=\"ServiceRate\")\n",
    "DataDict = pd.read_excel(InputData,sheet_name=\"Data Dictionary\")"
   ]
  },
  {
   "cell_type": "code",
   "execution_count": 5,
   "metadata": {},
   "outputs": [
    {
     "data": {
      "text/html": [
       "<div>\n",
       "<style scoped>\n",
       "    .dataframe tbody tr th:only-of-type {\n",
       "        vertical-align: middle;\n",
       "    }\n",
       "\n",
       "    .dataframe tbody tr th {\n",
       "        vertical-align: top;\n",
       "    }\n",
       "\n",
       "    .dataframe thead th {\n",
       "        text-align: right;\n",
       "    }\n",
       "</style>\n",
       "<table border=\"1\" class=\"dataframe\">\n",
       "  <thead>\n",
       "    <tr style=\"text-align: right;\">\n",
       "      <th></th>\n",
       "      <th>State</th>\n",
       "      <th>Month</th>\n",
       "      <th>Demand</th>\n",
       "    </tr>\n",
       "  </thead>\n",
       "  <tbody>\n",
       "    <tr>\n",
       "      <th>0</th>\n",
       "      <td>A</td>\n",
       "      <td>Jan</td>\n",
       "      <td>5240</td>\n",
       "    </tr>\n",
       "    <tr>\n",
       "      <th>1</th>\n",
       "      <td>A</td>\n",
       "      <td>Feb</td>\n",
       "      <td>4878</td>\n",
       "    </tr>\n",
       "    <tr>\n",
       "      <th>2</th>\n",
       "      <td>A</td>\n",
       "      <td>Mar</td>\n",
       "      <td>5942</td>\n",
       "    </tr>\n",
       "    <tr>\n",
       "      <th>3</th>\n",
       "      <td>A</td>\n",
       "      <td>Apr</td>\n",
       "      <td>2297</td>\n",
       "    </tr>\n",
       "    <tr>\n",
       "      <th>4</th>\n",
       "      <td>A</td>\n",
       "      <td>May</td>\n",
       "      <td>1992</td>\n",
       "    </tr>\n",
       "  </tbody>\n",
       "</table>\n",
       "</div>"
      ],
      "text/plain": [
       "  State Month  Demand\n",
       "0     A   Jan    5240\n",
       "1     A   Feb    4878\n",
       "2     A   Mar    5942\n",
       "3     A   Apr    2297\n",
       "4     A   May    1992"
      ]
     },
     "execution_count": 5,
     "metadata": {},
     "output_type": "execute_result"
    }
   ],
   "source": [
    "# Observing the data in MyDemandList\n",
    "MyDemandList.head()"
   ]
  },
  {
   "cell_type": "code",
   "execution_count": 6,
   "metadata": {},
   "outputs": [
    {
     "data": {
      "text/html": [
       "<div>\n",
       "<style scoped>\n",
       "    .dataframe tbody tr th:only-of-type {\n",
       "        vertical-align: middle;\n",
       "    }\n",
       "\n",
       "    .dataframe tbody tr th {\n",
       "        vertical-align: top;\n",
       "    }\n",
       "\n",
       "    .dataframe thead th {\n",
       "        text-align: right;\n",
       "    }\n",
       "</style>\n",
       "<table border=\"1\" class=\"dataframe\">\n",
       "  <thead>\n",
       "    <tr style=\"text-align: right;\">\n",
       "      <th></th>\n",
       "      <th>State</th>\n",
       "      <th>Month</th>\n",
       "      <th>LB</th>\n",
       "      <th>UB</th>\n",
       "      <th>StaffAvPer</th>\n",
       "    </tr>\n",
       "  </thead>\n",
       "  <tbody>\n",
       "    <tr>\n",
       "      <th>0</th>\n",
       "      <td>A</td>\n",
       "      <td>Jan</td>\n",
       "      <td>0.70</td>\n",
       "      <td>0.90</td>\n",
       "      <td>0.81</td>\n",
       "    </tr>\n",
       "    <tr>\n",
       "      <th>1</th>\n",
       "      <td>A</td>\n",
       "      <td>Feb</td>\n",
       "      <td>0.65</td>\n",
       "      <td>0.85</td>\n",
       "      <td>0.76</td>\n",
       "    </tr>\n",
       "    <tr>\n",
       "      <th>2</th>\n",
       "      <td>A</td>\n",
       "      <td>Mar</td>\n",
       "      <td>0.70</td>\n",
       "      <td>0.80</td>\n",
       "      <td>0.75</td>\n",
       "    </tr>\n",
       "    <tr>\n",
       "      <th>3</th>\n",
       "      <td>A</td>\n",
       "      <td>Apr</td>\n",
       "      <td>0.75</td>\n",
       "      <td>0.85</td>\n",
       "      <td>0.80</td>\n",
       "    </tr>\n",
       "    <tr>\n",
       "      <th>4</th>\n",
       "      <td>A</td>\n",
       "      <td>May</td>\n",
       "      <td>0.70</td>\n",
       "      <td>0.85</td>\n",
       "      <td>0.78</td>\n",
       "    </tr>\n",
       "  </tbody>\n",
       "</table>\n",
       "</div>"
      ],
      "text/plain": [
       "  State Month    LB    UB  StaffAvPer\n",
       "0     A   Jan  0.70  0.90        0.81\n",
       "1     A   Feb  0.65  0.85        0.76\n",
       "2     A   Mar  0.70  0.80        0.75\n",
       "3     A   Apr  0.75  0.85        0.80\n",
       "4     A   May  0.70  0.85        0.78"
      ]
     },
     "execution_count": 6,
     "metadata": {},
     "output_type": "execute_result"
    }
   ],
   "source": [
    "# Observing the data in StaffAvail\n",
    "StaffAvail.head()"
   ]
  },
  {
   "cell_type": "code",
   "execution_count": 7,
   "metadata": {},
   "outputs": [
    {
     "data": {
      "text/html": [
       "<div>\n",
       "<style scoped>\n",
       "    .dataframe tbody tr th:only-of-type {\n",
       "        vertical-align: middle;\n",
       "    }\n",
       "\n",
       "    .dataframe tbody tr th {\n",
       "        vertical-align: top;\n",
       "    }\n",
       "\n",
       "    .dataframe thead th {\n",
       "        text-align: right;\n",
       "    }\n",
       "</style>\n",
       "<table border=\"1\" class=\"dataframe\">\n",
       "  <thead>\n",
       "    <tr style=\"text-align: right;\">\n",
       "      <th></th>\n",
       "      <th>State</th>\n",
       "      <th>Month</th>\n",
       "      <th>AnnualSalary</th>\n",
       "      <th>MonthlySalary</th>\n",
       "      <th>UnitOutSourceCost</th>\n",
       "    </tr>\n",
       "  </thead>\n",
       "  <tbody>\n",
       "    <tr>\n",
       "      <th>0</th>\n",
       "      <td>A</td>\n",
       "      <td>Jan</td>\n",
       "      <td>60000</td>\n",
       "      <td>5000.0</td>\n",
       "      <td>180</td>\n",
       "    </tr>\n",
       "    <tr>\n",
       "      <th>1</th>\n",
       "      <td>A</td>\n",
       "      <td>Feb</td>\n",
       "      <td>60000</td>\n",
       "      <td>5000.0</td>\n",
       "      <td>180</td>\n",
       "    </tr>\n",
       "    <tr>\n",
       "      <th>2</th>\n",
       "      <td>A</td>\n",
       "      <td>Mar</td>\n",
       "      <td>60000</td>\n",
       "      <td>5000.0</td>\n",
       "      <td>180</td>\n",
       "    </tr>\n",
       "    <tr>\n",
       "      <th>3</th>\n",
       "      <td>A</td>\n",
       "      <td>Apr</td>\n",
       "      <td>60000</td>\n",
       "      <td>5000.0</td>\n",
       "      <td>180</td>\n",
       "    </tr>\n",
       "    <tr>\n",
       "      <th>4</th>\n",
       "      <td>A</td>\n",
       "      <td>May</td>\n",
       "      <td>60000</td>\n",
       "      <td>5000.0</td>\n",
       "      <td>180</td>\n",
       "    </tr>\n",
       "  </tbody>\n",
       "</table>\n",
       "</div>"
      ],
      "text/plain": [
       "  State Month  AnnualSalary  MonthlySalary  UnitOutSourceCost\n",
       "0     A   Jan         60000         5000.0                180\n",
       "1     A   Feb         60000         5000.0                180\n",
       "2     A   Mar         60000         5000.0                180\n",
       "3     A   Apr         60000         5000.0                180\n",
       "4     A   May         60000         5000.0                180"
      ]
     },
     "execution_count": 7,
     "metadata": {},
     "output_type": "execute_result"
    }
   ],
   "source": [
    "# Observing the data in Cost\n",
    "Cost.head()"
   ]
  },
  {
   "cell_type": "code",
   "execution_count": 8,
   "metadata": {},
   "outputs": [
    {
     "data": {
      "text/html": [
       "<div>\n",
       "<style scoped>\n",
       "    .dataframe tbody tr th:only-of-type {\n",
       "        vertical-align: middle;\n",
       "    }\n",
       "\n",
       "    .dataframe tbody tr th {\n",
       "        vertical-align: top;\n",
       "    }\n",
       "\n",
       "    .dataframe thead th {\n",
       "        text-align: right;\n",
       "    }\n",
       "</style>\n",
       "<table border=\"1\" class=\"dataframe\">\n",
       "  <thead>\n",
       "    <tr style=\"text-align: right;\">\n",
       "      <th></th>\n",
       "      <th>MgAppServedPerMonth</th>\n",
       "    </tr>\n",
       "  </thead>\n",
       "  <tbody>\n",
       "    <tr>\n",
       "      <th>0</th>\n",
       "      <td>40</td>\n",
       "    </tr>\n",
       "  </tbody>\n",
       "</table>\n",
       "</div>"
      ],
      "text/plain": [
       "   MgAppServedPerMonth\n",
       "0                   40"
      ]
     },
     "execution_count": 8,
     "metadata": {},
     "output_type": "execute_result"
    }
   ],
   "source": [
    "# Observing the data in ServiceRate\n",
    "ServiceRate"
   ]
  },
  {
   "cell_type": "markdown",
   "metadata": {},
   "source": [
    "\n",
    "\n",
    "\n",
    "\n",
    "\n",
    "\n",
    "\n",
    "\n",
    "\n",
    "\n",
    "## Data pre-processing "
   ]
  },
  {
   "cell_type": "code",
   "execution_count": 9,
   "metadata": {},
   "outputs": [],
   "source": [
    "# Create the required Python data structures for indexes and parameters\n",
    "# Creating dictionary for Demand\n",
    "Demand = MyDemandList.set_index(['State','Month'])['Demand'].to_dict()"
   ]
  },
  {
   "cell_type": "code",
   "execution_count": 10,
   "metadata": {},
   "outputs": [
    {
     "data": {
      "text/plain": [
       "{('A', 'Jan'): 5240,\n",
       " ('A', 'Feb'): 4878,\n",
       " ('A', 'Mar'): 5942,\n",
       " ('A', 'Apr'): 2297,\n",
       " ('A', 'May'): 1992,\n",
       " ('A', 'Jun'): 2275,\n",
       " ('A', 'Jul'): 5334,\n",
       " ('A', 'Aug'): 3371,\n",
       " ('A', 'Sep'): 3759,\n",
       " ('A', 'Oct'): 3529,\n",
       " ('A', 'Nov'): 4284,\n",
       " ('A', 'Dec'): 5183,\n",
       " ('B', 'Jan'): 4927,\n",
       " ('B', 'Feb'): 2628,\n",
       " ('B', 'Mar'): 2974,\n",
       " ('B', 'Apr'): 2338,\n",
       " ('B', 'May'): 4020,\n",
       " ('B', 'Jun'): 3147,\n",
       " ('B', 'Jul'): 4271,\n",
       " ('B', 'Aug'): 2620,\n",
       " ('B', 'Sep'): 4517,\n",
       " ('B', 'Oct'): 4155,\n",
       " ('B', 'Nov'): 3137,\n",
       " ('B', 'Dec'): 4227,\n",
       " ('C', 'Jan'): 1162,\n",
       " ('C', 'Feb'): 1967,\n",
       " ('C', 'Mar'): 1898,\n",
       " ('C', 'Apr'): 2261,\n",
       " ('C', 'May'): 2030,\n",
       " ('C', 'Jun'): 1642,\n",
       " ('C', 'Jul'): 2489,\n",
       " ('C', 'Aug'): 2496,\n",
       " ('C', 'Sep'): 922,\n",
       " ('C', 'Oct'): 2421,\n",
       " ('C', 'Nov'): 963,\n",
       " ('C', 'Dec'): 1998}"
      ]
     },
     "execution_count": 10,
     "metadata": {},
     "output_type": "execute_result"
    }
   ],
   "source": [
    "# Dictionary for Demand\n",
    "Demand"
   ]
  },
  {
   "cell_type": "code",
   "execution_count": 11,
   "metadata": {},
   "outputs": [],
   "source": [
    "# Creating dictionary for StaffAvail_LB\n",
    "StaffAvail_LB =StaffAvail.set_index(['State','Month'])['LB'].to_dict()"
   ]
  },
  {
   "cell_type": "code",
   "execution_count": 12,
   "metadata": {},
   "outputs": [
    {
     "data": {
      "text/plain": [
       "{('A', 'Jan'): 0.7,\n",
       " ('A', 'Feb'): 0.65,\n",
       " ('A', 'Mar'): 0.7,\n",
       " ('A', 'Apr'): 0.75,\n",
       " ('A', 'May'): 0.7,\n",
       " ('A', 'Jun'): 0.65,\n",
       " ('A', 'Jul'): 0.6,\n",
       " ('A', 'Aug'): 0.65,\n",
       " ('A', 'Sep'): 0.7,\n",
       " ('A', 'Oct'): 0.65,\n",
       " ('A', 'Nov'): 0.6,\n",
       " ('A', 'Dec'): 0.6,\n",
       " ('B', 'Jan'): 0.7,\n",
       " ('B', 'Feb'): 0.65,\n",
       " ('B', 'Mar'): 0.7,\n",
       " ('B', 'Apr'): 0.75,\n",
       " ('B', 'May'): 0.7,\n",
       " ('B', 'Jun'): 0.65,\n",
       " ('B', 'Jul'): 0.6,\n",
       " ('B', 'Aug'): 0.65,\n",
       " ('B', 'Sep'): 0.7,\n",
       " ('B', 'Oct'): 0.65,\n",
       " ('B', 'Nov'): 0.6,\n",
       " ('B', 'Dec'): 0.6,\n",
       " ('C', 'Jan'): 0.7,\n",
       " ('C', 'Feb'): 0.65,\n",
       " ('C', 'Mar'): 0.7,\n",
       " ('C', 'Apr'): 0.75,\n",
       " ('C', 'May'): 0.7,\n",
       " ('C', 'Jun'): 0.65,\n",
       " ('C', 'Jul'): 0.6,\n",
       " ('C', 'Aug'): 0.65,\n",
       " ('C', 'Sep'): 0.7,\n",
       " ('C', 'Oct'): 0.65,\n",
       " ('C', 'Nov'): 0.6,\n",
       " ('C', 'Dec'): 0.6}"
      ]
     },
     "execution_count": 12,
     "metadata": {},
     "output_type": "execute_result"
    }
   ],
   "source": [
    "# Dictionary for StaffAvail_LB\n",
    "StaffAvail_LB"
   ]
  },
  {
   "cell_type": "code",
   "execution_count": 13,
   "metadata": {},
   "outputs": [],
   "source": [
    "#Creating dictionary for StaffAvail_UB\n",
    "StaffAvail_UB =StaffAvail.set_index(['State','Month'])['UB'].to_dict()"
   ]
  },
  {
   "cell_type": "code",
   "execution_count": 14,
   "metadata": {},
   "outputs": [
    {
     "data": {
      "text/plain": [
       "{('A', 'Jan'): 0.9,\n",
       " ('A', 'Feb'): 0.85,\n",
       " ('A', 'Mar'): 0.8,\n",
       " ('A', 'Apr'): 0.85,\n",
       " ('A', 'May'): 0.85,\n",
       " ('A', 'Jun'): 0.8,\n",
       " ('A', 'Jul'): 0.75,\n",
       " ('A', 'Aug'): 0.85,\n",
       " ('A', 'Sep'): 0.9,\n",
       " ('A', 'Oct'): 0.8,\n",
       " ('A', 'Nov'): 0.75,\n",
       " ('A', 'Dec'): 0.7,\n",
       " ('B', 'Jan'): 0.9,\n",
       " ('B', 'Feb'): 0.85,\n",
       " ('B', 'Mar'): 0.8,\n",
       " ('B', 'Apr'): 0.85,\n",
       " ('B', 'May'): 0.85,\n",
       " ('B', 'Jun'): 0.8,\n",
       " ('B', 'Jul'): 0.75,\n",
       " ('B', 'Aug'): 0.85,\n",
       " ('B', 'Sep'): 0.9,\n",
       " ('B', 'Oct'): 0.8,\n",
       " ('B', 'Nov'): 0.75,\n",
       " ('B', 'Dec'): 0.7,\n",
       " ('C', 'Jan'): 0.9,\n",
       " ('C', 'Feb'): 0.85,\n",
       " ('C', 'Mar'): 0.8,\n",
       " ('C', 'Apr'): 0.85,\n",
       " ('C', 'May'): 0.85,\n",
       " ('C', 'Jun'): 0.8,\n",
       " ('C', 'Jul'): 0.75,\n",
       " ('C', 'Aug'): 0.85,\n",
       " ('C', 'Sep'): 0.9,\n",
       " ('C', 'Oct'): 0.8,\n",
       " ('C', 'Nov'): 0.75,\n",
       " ('C', 'Dec'): 0.7}"
      ]
     },
     "execution_count": 14,
     "metadata": {},
     "output_type": "execute_result"
    }
   ],
   "source": [
    "# Dictionary for StaffAvail_UB\n",
    "StaffAvail_UB"
   ]
  },
  {
   "cell_type": "code",
   "execution_count": 15,
   "metadata": {},
   "outputs": [],
   "source": [
    "#Creating dictionary for StaffAvPer\n",
    "StaffAvPer=StaffAvail.set_index(['State','Month'])['StaffAvPer'].to_dict()"
   ]
  },
  {
   "cell_type": "code",
   "execution_count": 16,
   "metadata": {},
   "outputs": [
    {
     "data": {
      "text/plain": [
       "{('A', 'Jan'): 0.81,\n",
       " ('A', 'Feb'): 0.76,\n",
       " ('A', 'Mar'): 0.75,\n",
       " ('A', 'Apr'): 0.8,\n",
       " ('A', 'May'): 0.78,\n",
       " ('A', 'Jun'): 0.73,\n",
       " ('A', 'Jul'): 0.68,\n",
       " ('A', 'Aug'): 0.76,\n",
       " ('A', 'Sep'): 0.81,\n",
       " ('A', 'Oct'): 0.73,\n",
       " ('A', 'Nov'): 0.68,\n",
       " ('A', 'Dec'): 0.65,\n",
       " ('B', 'Jan'): 0.81,\n",
       " ('B', 'Feb'): 0.76,\n",
       " ('B', 'Mar'): 0.75,\n",
       " ('B', 'Apr'): 0.8,\n",
       " ('B', 'May'): 0.78,\n",
       " ('B', 'Jun'): 0.73,\n",
       " ('B', 'Jul'): 0.68,\n",
       " ('B', 'Aug'): 0.76,\n",
       " ('B', 'Sep'): 0.81,\n",
       " ('B', 'Oct'): 0.73,\n",
       " ('B', 'Nov'): 0.68,\n",
       " ('B', 'Dec'): 0.65,\n",
       " ('C', 'Jan'): 0.81,\n",
       " ('C', 'Feb'): 0.76,\n",
       " ('C', 'Mar'): 0.75,\n",
       " ('C', 'Apr'): 0.8,\n",
       " ('C', 'May'): 0.78,\n",
       " ('C', 'Jun'): 0.73,\n",
       " ('C', 'Jul'): 0.68,\n",
       " ('C', 'Aug'): 0.76,\n",
       " ('C', 'Sep'): 0.81,\n",
       " ('C', 'Oct'): 0.73,\n",
       " ('C', 'Nov'): 0.68,\n",
       " ('C', 'Dec'): 0.65}"
      ]
     },
     "execution_count": 16,
     "metadata": {},
     "output_type": "execute_result"
    }
   ],
   "source": [
    "# Dictionary for StaffAvPer\n",
    "StaffAvPer"
   ]
  },
  {
   "cell_type": "code",
   "execution_count": 17,
   "metadata": {},
   "outputs": [],
   "source": [
    "#Creating dictionary for Staff\n",
    "Staff=Cost.set_index(['State','Month'])['MonthlySalary'].to_dict()"
   ]
  },
  {
   "cell_type": "code",
   "execution_count": 18,
   "metadata": {},
   "outputs": [
    {
     "data": {
      "text/plain": [
       "{('A', 'Jan'): 5000.0,\n",
       " ('A', 'Feb'): 5000.0,\n",
       " ('A', 'Mar'): 5000.0,\n",
       " ('A', 'Apr'): 5000.0,\n",
       " ('A', 'May'): 5000.0,\n",
       " ('A', 'Jun'): 5000.0,\n",
       " ('A', 'Jul'): 5000.0,\n",
       " ('A', 'Aug'): 5000.0,\n",
       " ('A', 'Sep'): 5000.0,\n",
       " ('A', 'Oct'): 5000.0,\n",
       " ('A', 'Nov'): 5000.0,\n",
       " ('A', 'Dec'): 5000.0,\n",
       " ('B', 'Jan'): 4583.333333333333,\n",
       " ('B', 'Feb'): 4583.333333333333,\n",
       " ('B', 'Mar'): 4583.333333333333,\n",
       " ('B', 'Apr'): 4583.333333333333,\n",
       " ('B', 'May'): 4583.333333333333,\n",
       " ('B', 'Jun'): 4583.333333333333,\n",
       " ('B', 'Jul'): 4583.333333333333,\n",
       " ('B', 'Aug'): 4583.333333333333,\n",
       " ('B', 'Sep'): 4583.333333333333,\n",
       " ('B', 'Oct'): 4583.333333333333,\n",
       " ('B', 'Nov'): 4583.333333333333,\n",
       " ('B', 'Dec'): 4583.333333333333,\n",
       " ('C', 'Jan'): 4416.666666666667,\n",
       " ('C', 'Feb'): 4416.666666666667,\n",
       " ('C', 'Mar'): 4416.666666666667,\n",
       " ('C', 'Apr'): 4416.666666666667,\n",
       " ('C', 'May'): 4416.666666666667,\n",
       " ('C', 'Jun'): 4416.666666666667,\n",
       " ('C', 'Jul'): 4416.666666666667,\n",
       " ('C', 'Aug'): 4416.666666666667,\n",
       " ('C', 'Sep'): 4416.666666666667,\n",
       " ('C', 'Oct'): 4416.666666666667,\n",
       " ('C', 'Nov'): 4416.666666666667,\n",
       " ('C', 'Dec'): 4416.666666666667}"
      ]
     },
     "execution_count": 18,
     "metadata": {},
     "output_type": "execute_result"
    }
   ],
   "source": [
    "#Dictionary for Staff\n",
    "Staff"
   ]
  },
  {
   "cell_type": "code",
   "execution_count": 19,
   "metadata": {},
   "outputs": [],
   "source": [
    "#Creating dictionary for UnitOutSourceCost\n",
    "UnitOutSourceCost=Cost.set_index(['State','Month'])['UnitOutSourceCost'].to_dict()"
   ]
  },
  {
   "cell_type": "code",
   "execution_count": 20,
   "metadata": {},
   "outputs": [
    {
     "data": {
      "text/plain": [
       "{('A', 'Jan'): 180,\n",
       " ('A', 'Feb'): 180,\n",
       " ('A', 'Mar'): 180,\n",
       " ('A', 'Apr'): 180,\n",
       " ('A', 'May'): 180,\n",
       " ('A', 'Jun'): 180,\n",
       " ('A', 'Jul'): 180,\n",
       " ('A', 'Aug'): 180,\n",
       " ('A', 'Sep'): 180,\n",
       " ('A', 'Oct'): 180,\n",
       " ('A', 'Nov'): 180,\n",
       " ('A', 'Dec'): 180,\n",
       " ('B', 'Jan'): 150,\n",
       " ('B', 'Feb'): 150,\n",
       " ('B', 'Mar'): 150,\n",
       " ('B', 'Apr'): 150,\n",
       " ('B', 'May'): 150,\n",
       " ('B', 'Jun'): 150,\n",
       " ('B', 'Jul'): 150,\n",
       " ('B', 'Aug'): 150,\n",
       " ('B', 'Sep'): 150,\n",
       " ('B', 'Oct'): 150,\n",
       " ('B', 'Nov'): 150,\n",
       " ('B', 'Dec'): 150,\n",
       " ('C', 'Jan'): 160,\n",
       " ('C', 'Feb'): 160,\n",
       " ('C', 'Mar'): 160,\n",
       " ('C', 'Apr'): 160,\n",
       " ('C', 'May'): 160,\n",
       " ('C', 'Jun'): 160,\n",
       " ('C', 'Jul'): 160,\n",
       " ('C', 'Aug'): 160,\n",
       " ('C', 'Sep'): 160,\n",
       " ('C', 'Oct'): 160,\n",
       " ('C', 'Nov'): 160,\n",
       " ('C', 'Dec'): 160}"
      ]
     },
     "execution_count": 20,
     "metadata": {},
     "output_type": "execute_result"
    }
   ],
   "source": [
    "# Dictionary for UnitOutSourceCost\n",
    "UnitOutSourceCost"
   ]
  },
  {
   "cell_type": "code",
   "execution_count": 21,
   "metadata": {},
   "outputs": [],
   "source": [
    "# Number of applications per employee\n",
    "MgAppServedPerMonth=ServiceRate.iloc[0,0]"
   ]
  },
  {
   "cell_type": "code",
   "execution_count": 22,
   "metadata": {},
   "outputs": [
    {
     "data": {
      "text/plain": [
       "40"
      ]
     },
     "execution_count": 22,
     "metadata": {},
     "output_type": "execute_result"
    }
   ],
   "source": [
    "MgAppServedPerMonth"
   ]
  },
  {
   "cell_type": "code",
   "execution_count": 23,
   "metadata": {},
   "outputs": [],
   "source": [
    "# Indexes\n",
    "State=Cost['State'].unique()\n",
    "Month=Cost['Month'].unique()"
   ]
  },
  {
   "cell_type": "markdown",
   "metadata": {},
   "source": [
    "\n",
    "\n",
    "\n",
    "\n",
    "\n",
    "\n",
    "\n",
    "\n",
    "\n",
    "\n",
    "# Question 1\n",
    "\n",
    "The company wants to know the optimised staffing recommendations for the business case described. \n",
    "Write the mathematical model for the deterministic optimisation problem. Define and explain your decision variables, objective function and the constraint. (Hint: Use months of the year as the model timeline).\n",
    "\n"
   ]
  },
  {
   "cell_type": "markdown",
   "metadata": {},
   "source": [
    "- Decision Variables are:\n",
    "   #### 1. Number of Staff Members\n",
    "   #### 2. Number of Outsourced Members\n",
    "   \n",
    "   \n",
    "    \n",
    "- Objective function is:\n",
    "     \n",
    "   #### Total Cost = (Number of Staffs) x (Salary of Staffs) + (Number of Outsourced Members) x (Cost of Outsourced members)\n",
    "   #### ___N.B.: 40 x StaffAvPer is number of applications of each staff member___\n",
    "   #### ___Number of Outsourced Members = Number of Outsourced applications___\n",
    "   \n",
    "   \n",
    "- Constraints:\n",
    "   #### 1. Number of Staffs x 40 x (StaffAvailability) + (Number of outsourced members) == Demand\n",
    "   #### 2. ___For state A___ :\n",
    "   #### Number of Outsourced Members <= 0.3 x (Demand)\n",
    "   #### 3. ___For state B___ :\n",
    "   #### Number of Outsourced Members <= 0.4 x (Demand)\n",
    "   \n",
    "    "
   ]
  },
  {
   "cell_type": "markdown",
   "metadata": {},
   "source": [
    "\n",
    "# Question 2\n",
    "\n",
    "Code the problem in Python using any optimisation package of your choice."
   ]
  },
  {
   "cell_type": "code",
   "execution_count": 24,
   "metadata": {},
   "outputs": [],
   "source": [
    "# Creating a model instance\n",
    "\n",
    "model = ConcreteModel()"
   ]
  },
  {
   "cell_type": "raw",
   "metadata": {},
   "source": [
    "# Define Pyomo sets and Parameters\n",
    "\n",
    "Demand = (staff_availability) * 40 * (x+y)\n",
    "FTE_Salary = Staff\n",
    "Outsource cost = UnitOutSourceCost\n",
    "Staff availability = 40xStaffAvPer\n",
    "number of staffs = x\n",
    "number of outsourced employees = y"
   ]
  },
  {
   "cell_type": "code",
   "execution_count": 25,
   "metadata": {},
   "outputs": [],
   "source": [
    "# Decision variables\n",
    "model.x = Var(State, Month, within=PositiveReals, initialize=70000)\n",
    "model.y = Var(State, Month, within=PositiveReals, initialize=70000)"
   ]
  },
  {
   "cell_type": "code",
   "execution_count": 26,
   "metadata": {},
   "outputs": [],
   "source": [
    "# Constraints\n",
    "def demand(model,s,m):\n",
    "    return (model.x[s,m]*40*StaffAvPer[s,m]+model.y[s,m])==Demand[s,m]"
   ]
  },
  {
   "cell_type": "code",
   "execution_count": 27,
   "metadata": {},
   "outputs": [],
   "source": [
    "model.demand = Constraint(State,Month,rule=demand)"
   ]
  },
  {
   "cell_type": "code",
   "execution_count": 28,
   "metadata": {},
   "outputs": [],
   "source": [
    "def outsource_constraint1(model,m):\n",
    "    return (model.y['A',m]<=0.3*Demand['A',m])    "
   ]
  },
  {
   "cell_type": "code",
   "execution_count": 29,
   "metadata": {},
   "outputs": [],
   "source": [
    "model.outsource_constraint1 = Constraint(Month,rule=outsource_constraint1)"
   ]
  },
  {
   "cell_type": "code",
   "execution_count": 30,
   "metadata": {},
   "outputs": [],
   "source": [
    "def outsource_constraint2(model,m):\n",
    "    return (model.y['B',m]<=0.4*Demand['B',m])"
   ]
  },
  {
   "cell_type": "code",
   "execution_count": 31,
   "metadata": {},
   "outputs": [],
   "source": [
    "model.outsource_constraint2 = Constraint(Month,rule=outsource_constraint2)"
   ]
  },
  {
   "cell_type": "code",
   "execution_count": 32,
   "metadata": {},
   "outputs": [],
   "source": [
    "# Objective function\n",
    "model.value = Objective(expr = (sum(Staff[s,m]*model.x[s,m] for m in Month for s in State)+sum(UnitOutSourceCost[s,m]*model.y[s,m] for m in Month for s in State))\n",
    " , sense= minimize)"
   ]
  },
  {
   "cell_type": "code",
   "execution_count": 33,
   "metadata": {},
   "outputs": [
    {
     "name": "stdout",
     "output_type": "stream",
     "text": [
      "# ==========================================================\n",
      "# = Solver Results                                         =\n",
      "# ==========================================================\n",
      "# ----------------------------------------------------------\n",
      "#   Problem Information\n",
      "# ----------------------------------------------------------\n",
      "Problem: \n",
      "- Name: unknown\n",
      "  Lower bound: 17962273.21996\n",
      "  Upper bound: 17962273.21996\n",
      "  Number of objectives: 1\n",
      "  Number of constraints: 61\n",
      "  Number of variables: 73\n",
      "  Number of nonzeros: 97\n",
      "  Sense: minimize\n",
      "# ----------------------------------------------------------\n",
      "#   Solver Information\n",
      "# ----------------------------------------------------------\n",
      "Solver: \n",
      "- Status: ok\n",
      "  Termination condition: optimal\n",
      "  Statistics: \n",
      "    Branch and bound: \n",
      "      Number of bounded subproblems: 0\n",
      "      Number of created subproblems: 0\n",
      "  Error rc: 0\n",
      "  Time: 0.06406998634338379\n",
      "# ----------------------------------------------------------\n",
      "#   Solution Information\n",
      "# ----------------------------------------------------------\n",
      "Solution: \n",
      "- number of solutions: 0\n",
      "  number of solutions displayed: 0\n"
     ]
    }
   ],
   "source": [
    "# Invoking the solver\n",
    "result = SolverFactory('glpk').solve(model)\n",
    "result.write()"
   ]
  },
  {
   "cell_type": "code",
   "execution_count": 34,
   "metadata": {},
   "outputs": [
    {
     "data": {
      "text/plain": [
       "17962273"
      ]
     },
     "execution_count": 34,
     "metadata": {},
     "output_type": "execute_result"
    }
   ],
   "source": [
    "# Print the value of the objective function\n",
    "int(model.value())"
   ]
  },
  {
   "cell_type": "code",
   "execution_count": 35,
   "metadata": {},
   "outputs": [
    {
     "name": "stdout",
     "output_type": "stream",
     "text": [
      "11 Set Declarations\n",
      "    demand_index : Size=1, Index=None, Ordered=False\n",
      "        Key  : Dimen : Domain                        : Size : Members\n",
      "        None :     2 : demand_index_0*demand_index_1 :   36 : {('A', 'Apr'), ('A', 'Aug'), ('A', 'Dec'), ('A', 'Feb'), ('A', 'Jan'), ('A', 'Jul'), ('A', 'Jun'), ('A', 'Mar'), ('A', 'May'), ('A', 'Nov'), ('A', 'Oct'), ('A', 'Sep'), ('B', 'Apr'), ('B', 'Aug'), ('B', 'Dec'), ('B', 'Feb'), ('B', 'Jan'), ('B', 'Jul'), ('B', 'Jun'), ('B', 'Mar'), ('B', 'May'), ('B', 'Nov'), ('B', 'Oct'), ('B', 'Sep'), ('C', 'Apr'), ('C', 'Aug'), ('C', 'Dec'), ('C', 'Feb'), ('C', 'Jan'), ('C', 'Jul'), ('C', 'Jun'), ('C', 'Mar'), ('C', 'May'), ('C', 'Nov'), ('C', 'Oct'), ('C', 'Sep')}\n",
      "    demand_index_0 : Size=1, Index=None, Ordered=False\n",
      "        Key  : Dimen : Domain : Size : Members\n",
      "        None :     1 :    Any :    3 : {'A', 'B', 'C'}\n",
      "    demand_index_1 : Size=1, Index=None, Ordered=False\n",
      "        Key  : Dimen : Domain : Size : Members\n",
      "        None :     1 :    Any :   12 : {'Apr', 'Aug', 'Dec', 'Feb', 'Jan', 'Jul', 'Jun', 'Mar', 'May', 'Nov', 'Oct', 'Sep'}\n",
      "    outsource_constraint1_index : Size=1, Index=None, Ordered=False\n",
      "        Key  : Dimen : Domain : Size : Members\n",
      "        None :     1 :    Any :   12 : {'Apr', 'Aug', 'Dec', 'Feb', 'Jan', 'Jul', 'Jun', 'Mar', 'May', 'Nov', 'Oct', 'Sep'}\n",
      "    outsource_constraint2_index : Size=1, Index=None, Ordered=False\n",
      "        Key  : Dimen : Domain : Size : Members\n",
      "        None :     1 :    Any :   12 : {'Apr', 'Aug', 'Dec', 'Feb', 'Jan', 'Jul', 'Jun', 'Mar', 'May', 'Nov', 'Oct', 'Sep'}\n",
      "    x_index : Size=1, Index=None, Ordered=False\n",
      "        Key  : Dimen : Domain              : Size : Members\n",
      "        None :     2 : x_index_0*x_index_1 :   36 : {('A', 'Apr'), ('A', 'Aug'), ('A', 'Dec'), ('A', 'Feb'), ('A', 'Jan'), ('A', 'Jul'), ('A', 'Jun'), ('A', 'Mar'), ('A', 'May'), ('A', 'Nov'), ('A', 'Oct'), ('A', 'Sep'), ('B', 'Apr'), ('B', 'Aug'), ('B', 'Dec'), ('B', 'Feb'), ('B', 'Jan'), ('B', 'Jul'), ('B', 'Jun'), ('B', 'Mar'), ('B', 'May'), ('B', 'Nov'), ('B', 'Oct'), ('B', 'Sep'), ('C', 'Apr'), ('C', 'Aug'), ('C', 'Dec'), ('C', 'Feb'), ('C', 'Jan'), ('C', 'Jul'), ('C', 'Jun'), ('C', 'Mar'), ('C', 'May'), ('C', 'Nov'), ('C', 'Oct'), ('C', 'Sep')}\n",
      "    x_index_0 : Size=1, Index=None, Ordered=False\n",
      "        Key  : Dimen : Domain : Size : Members\n",
      "        None :     1 :    Any :    3 : {'A', 'B', 'C'}\n",
      "    x_index_1 : Size=1, Index=None, Ordered=False\n",
      "        Key  : Dimen : Domain : Size : Members\n",
      "        None :     1 :    Any :   12 : {'Apr', 'Aug', 'Dec', 'Feb', 'Jan', 'Jul', 'Jun', 'Mar', 'May', 'Nov', 'Oct', 'Sep'}\n",
      "    y_index : Size=1, Index=None, Ordered=False\n",
      "        Key  : Dimen : Domain              : Size : Members\n",
      "        None :     2 : y_index_0*y_index_1 :   36 : {('A', 'Apr'), ('A', 'Aug'), ('A', 'Dec'), ('A', 'Feb'), ('A', 'Jan'), ('A', 'Jul'), ('A', 'Jun'), ('A', 'Mar'), ('A', 'May'), ('A', 'Nov'), ('A', 'Oct'), ('A', 'Sep'), ('B', 'Apr'), ('B', 'Aug'), ('B', 'Dec'), ('B', 'Feb'), ('B', 'Jan'), ('B', 'Jul'), ('B', 'Jun'), ('B', 'Mar'), ('B', 'May'), ('B', 'Nov'), ('B', 'Oct'), ('B', 'Sep'), ('C', 'Apr'), ('C', 'Aug'), ('C', 'Dec'), ('C', 'Feb'), ('C', 'Jan'), ('C', 'Jul'), ('C', 'Jun'), ('C', 'Mar'), ('C', 'May'), ('C', 'Nov'), ('C', 'Oct'), ('C', 'Sep')}\n",
      "    y_index_0 : Size=1, Index=None, Ordered=False\n",
      "        Key  : Dimen : Domain : Size : Members\n",
      "        None :     1 :    Any :    3 : {'A', 'B', 'C'}\n",
      "    y_index_1 : Size=1, Index=None, Ordered=False\n",
      "        Key  : Dimen : Domain : Size : Members\n",
      "        None :     1 :    Any :   12 : {'Apr', 'Aug', 'Dec', 'Feb', 'Jan', 'Jul', 'Jun', 'Mar', 'May', 'Nov', 'Oct', 'Sep'}\n",
      "\n",
      "2 Var Declarations\n",
      "    x : Size=36, Index=x_index\n",
      "        Key          : Lower : Value            : Upper : Fixed : Stale : Domain\n",
      "        ('A', 'Apr') :     0 :         71.78125 :  None : False : False : PositiveReals\n",
      "        ('A', 'Aug') :     0 : 110.888157894737 :  None : False : False : PositiveReals\n",
      "        ('A', 'Dec') :     0 : 139.542307692308 :  None : False : False : PositiveReals\n",
      "        ('A', 'Feb') :     0 : 160.460526315789 :  None : False : False : PositiveReals\n",
      "        ('A', 'Jan') :     0 : 161.728395061728 :  None : False : False : PositiveReals\n",
      "        ('A', 'Jul') :     0 : 137.272058823529 :  None : False : False : PositiveReals\n",
      "        ('A', 'Jun') :     0 : 77.9109589041096 :  None : False : False : PositiveReals\n",
      "        ('A', 'Mar') :     0 : 198.066666666667 :  None : False : False : PositiveReals\n",
      "        ('A', 'May') :     0 : 63.8461538461538 :  None : False : False : PositiveReals\n",
      "        ('A', 'Nov') :     0 :           110.25 :  None : False : False : PositiveReals\n",
      "        ('A', 'Oct') :     0 : 120.856164383562 :  None : False : False : PositiveReals\n",
      "        ('A', 'Sep') :     0 : 116.018518518519 :  None : False : False : PositiveReals\n",
      "        ('B', 'Apr') :     0 :          73.0625 :  None : False : False : PositiveReals\n",
      "        ('B', 'Aug') :     0 : 51.7105263157895 :  None : False : False : PositiveReals\n",
      "        ('B', 'Dec') :     0 : 97.5461538461538 :  None : False : False : PositiveReals\n",
      "        ('B', 'Feb') :     0 : 51.8684210526316 :  None : False : False : PositiveReals\n",
      "        ('B', 'Jan') :     0 : 152.067901234568 :  None : False : False : PositiveReals\n",
      "        ('B', 'Jul') :     0 : 94.2132352941176 :  None : False : False : PositiveReals\n",
      "        ('B', 'Jun') :     0 : 64.6643835616438 :  None : False : False : PositiveReals\n",
      "        ('B', 'Mar') :     0 :            59.48 :  None : False : False : PositiveReals\n",
      "        ('B', 'May') :     0 : 128.846153846154 :  None : False : False : PositiveReals\n",
      "        ('B', 'Nov') :     0 : 69.1985294117647 :  None : False : False : PositiveReals\n",
      "        ('B', 'Oct') :     0 : 85.3767123287671 :  None : False : False : PositiveReals\n",
      "        ('B', 'Sep') :     0 : 139.413580246914 :  None : False : False : PositiveReals\n",
      "        ('C', 'Apr') :     0 :         70.65625 :  None : False : False : PositiveReals\n",
      "        ('C', 'Aug') :     0 : 82.1052631578947 :  None : False : False : PositiveReals\n",
      "        ('C', 'Dec') :     0 :              0.0 :  None : False : False : PositiveReals\n",
      "        ('C', 'Feb') :     0 : 64.7039473684211 :  None : False : False : PositiveReals\n",
      "        ('C', 'Jan') :     0 : 35.8641975308642 :  None : False : False : PositiveReals\n",
      "        ('C', 'Jul') :     0 :              0.0 :  None : False : False : PositiveReals\n",
      "        ('C', 'Jun') :     0 : 56.2328767123288 :  None : False : False : PositiveReals\n",
      "        ('C', 'Mar') :     0 : 63.2666666666667 :  None : False : False : PositiveReals\n",
      "        ('C', 'May') :     0 : 65.0641025641026 :  None : False : False : PositiveReals\n",
      "        ('C', 'Nov') :     0 :              0.0 :  None : False : False : PositiveReals\n",
      "        ('C', 'Oct') :     0 : 82.9109589041096 :  None : False : False : PositiveReals\n",
      "        ('C', 'Sep') :     0 : 28.4567901234568 :  None : False : False : PositiveReals\n",
      "    y : Size=36, Index=y_index\n",
      "        Key          : Lower : Value  : Upper : Fixed : Stale : Domain\n",
      "        ('A', 'Apr') :     0 :    0.0 :  None : False : False : PositiveReals\n",
      "        ('A', 'Aug') :     0 :    0.0 :  None : False : False : PositiveReals\n",
      "        ('A', 'Dec') :     0 : 1554.9 :  None : False : False : PositiveReals\n",
      "        ('A', 'Feb') :     0 :    0.0 :  None : False : False : PositiveReals\n",
      "        ('A', 'Jan') :     0 :    0.0 :  None : False : False : PositiveReals\n",
      "        ('A', 'Jul') :     0 : 1600.2 :  None : False : False : PositiveReals\n",
      "        ('A', 'Jun') :     0 :    0.0 :  None : False : False : PositiveReals\n",
      "        ('A', 'Mar') :     0 :    0.0 :  None : False : False : PositiveReals\n",
      "        ('A', 'May') :     0 :    0.0 :  None : False : False : PositiveReals\n",
      "        ('A', 'Nov') :     0 : 1285.2 :  None : False : False : PositiveReals\n",
      "        ('A', 'Oct') :     0 :    0.0 :  None : False : False : PositiveReals\n",
      "        ('A', 'Sep') :     0 :    0.0 :  None : False : False : PositiveReals\n",
      "        ('B', 'Apr') :     0 :    0.0 :  None : False : False : PositiveReals\n",
      "        ('B', 'Aug') :     0 : 1048.0 :  None : False : False : PositiveReals\n",
      "        ('B', 'Dec') :     0 : 1690.8 :  None : False : False : PositiveReals\n",
      "        ('B', 'Feb') :     0 : 1051.2 :  None : False : False : PositiveReals\n",
      "        ('B', 'Jan') :     0 :    0.0 :  None : False : False : PositiveReals\n",
      "        ('B', 'Jul') :     0 : 1708.4 :  None : False : False : PositiveReals\n",
      "        ('B', 'Jun') :     0 : 1258.8 :  None : False : False : PositiveReals\n",
      "        ('B', 'Mar') :     0 : 1189.6 :  None : False : False : PositiveReals\n",
      "        ('B', 'May') :     0 :    0.0 :  None : False : False : PositiveReals\n",
      "        ('B', 'Nov') :     0 : 1254.8 :  None : False : False : PositiveReals\n",
      "        ('B', 'Oct') :     0 : 1662.0 :  None : False : False : PositiveReals\n",
      "        ('B', 'Sep') :     0 :    0.0 :  None : False : False : PositiveReals\n",
      "        ('C', 'Apr') :     0 :    0.0 :  None : False : False : PositiveReals\n",
      "        ('C', 'Aug') :     0 :    0.0 :  None : False : False : PositiveReals\n",
      "        ('C', 'Dec') :     0 : 1998.0 :  None : False : False : PositiveReals\n",
      "        ('C', 'Feb') :     0 :    0.0 :  None : False : False : PositiveReals\n",
      "        ('C', 'Jan') :     0 :    0.0 :  None : False : False : PositiveReals\n",
      "        ('C', 'Jul') :     0 : 2489.0 :  None : False : False : PositiveReals\n",
      "        ('C', 'Jun') :     0 :    0.0 :  None : False : False : PositiveReals\n",
      "        ('C', 'Mar') :     0 :    0.0 :  None : False : False : PositiveReals\n",
      "        ('C', 'May') :     0 :    0.0 :  None : False : False : PositiveReals\n",
      "        ('C', 'Nov') :     0 :  963.0 :  None : False : False : PositiveReals\n",
      "        ('C', 'Oct') :     0 :    0.0 :  None : False : False : PositiveReals\n",
      "        ('C', 'Sep') :     0 :    0.0 :  None : False : False : PositiveReals\n",
      "\n",
      "1 Objective Declarations\n",
      "    value : Size=1, Index=None, Active=True\n",
      "        Key  : Active : Sense    : Expression\n",
      "        None :   True : minimize : 5000.0*x[A,Jan] + 4583.333333333333*x[B,Jan] + 4416.666666666667*x[C,Jan] + 5000.0*x[A,Feb] + 4583.333333333333*x[B,Feb] + 4416.666666666667*x[C,Feb] + 5000.0*x[A,Mar] + 4583.333333333333*x[B,Mar] + 4416.666666666667*x[C,Mar] + 5000.0*x[A,Apr] + 4583.333333333333*x[B,Apr] + 4416.666666666667*x[C,Apr] + 5000.0*x[A,May] + 4583.333333333333*x[B,May] + 4416.666666666667*x[C,May] + 5000.0*x[A,Jun] + 4583.333333333333*x[B,Jun] + 4416.666666666667*x[C,Jun] + 5000.0*x[A,Jul] + 4583.333333333333*x[B,Jul] + 4416.666666666667*x[C,Jul] + 5000.0*x[A,Aug] + 4583.333333333333*x[B,Aug] + 4416.666666666667*x[C,Aug] + 5000.0*x[A,Sep] + 4583.333333333333*x[B,Sep] + 4416.666666666667*x[C,Sep] + 5000.0*x[A,Oct] + 4583.333333333333*x[B,Oct] + 4416.666666666667*x[C,Oct] + 5000.0*x[A,Nov] + 4583.333333333333*x[B,Nov] + 4416.666666666667*x[C,Nov] + 5000.0*x[A,Dec] + 4583.333333333333*x[B,Dec] + 4416.666666666667*x[C,Dec] + 180*y[A,Jan] + 150*y[B,Jan] + 160*y[C,Jan] + 180*y[A,Feb] + 150*y[B,Feb] + 160*y[C,Feb] + 180*y[A,Mar] + 150*y[B,Mar] + 160*y[C,Mar] + 180*y[A,Apr] + 150*y[B,Apr] + 160*y[C,Apr] + 180*y[A,May] + 150*y[B,May] + 160*y[C,May] + 180*y[A,Jun] + 150*y[B,Jun] + 160*y[C,Jun] + 180*y[A,Jul] + 150*y[B,Jul] + 160*y[C,Jul] + 180*y[A,Aug] + 150*y[B,Aug] + 160*y[C,Aug] + 180*y[A,Sep] + 150*y[B,Sep] + 160*y[C,Sep] + 180*y[A,Oct] + 150*y[B,Oct] + 160*y[C,Oct] + 180*y[A,Nov] + 150*y[B,Nov] + 160*y[C,Nov] + 180*y[A,Dec] + 150*y[B,Dec] + 160*y[C,Dec]\n",
      "\n",
      "3 Constraint Declarations\n",
      "    demand : Size=36, Index=demand_index, Active=True\n",
      "        Key          : Lower  : Body                                   : Upper  : Active\n",
      "        ('A', 'Apr') : 2297.0 :               32.0*x[A,Apr] + y[A,Apr] : 2297.0 :   True\n",
      "        ('A', 'Aug') : 3371.0 :               30.4*x[A,Aug] + y[A,Aug] : 3371.0 :   True\n",
      "        ('A', 'Dec') : 5183.0 :               26.0*x[A,Dec] + y[A,Dec] : 5183.0 :   True\n",
      "        ('A', 'Feb') : 4878.0 :               30.4*x[A,Feb] + y[A,Feb] : 4878.0 :   True\n",
      "        ('A', 'Jan') : 5240.0 : 32.400000000000006*x[A,Jan] + y[A,Jan] : 5240.0 :   True\n",
      "        ('A', 'Jul') : 5334.0 : 27.200000000000003*x[A,Jul] + y[A,Jul] : 5334.0 :   True\n",
      "        ('A', 'Jun') : 2275.0 :               29.2*x[A,Jun] + y[A,Jun] : 2275.0 :   True\n",
      "        ('A', 'Mar') : 5942.0 :               30.0*x[A,Mar] + y[A,Mar] : 5942.0 :   True\n",
      "        ('A', 'May') : 1992.0 : 31.200000000000003*x[A,May] + y[A,May] : 1992.0 :   True\n",
      "        ('A', 'Nov') : 4284.0 : 27.200000000000003*x[A,Nov] + y[A,Nov] : 4284.0 :   True\n",
      "        ('A', 'Oct') : 3529.0 :               29.2*x[A,Oct] + y[A,Oct] : 3529.0 :   True\n",
      "        ('A', 'Sep') : 3759.0 : 32.400000000000006*x[A,Sep] + y[A,Sep] : 3759.0 :   True\n",
      "        ('B', 'Apr') : 2338.0 :               32.0*x[B,Apr] + y[B,Apr] : 2338.0 :   True\n",
      "        ('B', 'Aug') : 2620.0 :               30.4*x[B,Aug] + y[B,Aug] : 2620.0 :   True\n",
      "        ('B', 'Dec') : 4227.0 :               26.0*x[B,Dec] + y[B,Dec] : 4227.0 :   True\n",
      "        ('B', 'Feb') : 2628.0 :               30.4*x[B,Feb] + y[B,Feb] : 2628.0 :   True\n",
      "        ('B', 'Jan') : 4927.0 : 32.400000000000006*x[B,Jan] + y[B,Jan] : 4927.0 :   True\n",
      "        ('B', 'Jul') : 4271.0 : 27.200000000000003*x[B,Jul] + y[B,Jul] : 4271.0 :   True\n",
      "        ('B', 'Jun') : 3147.0 :               29.2*x[B,Jun] + y[B,Jun] : 3147.0 :   True\n",
      "        ('B', 'Mar') : 2974.0 :               30.0*x[B,Mar] + y[B,Mar] : 2974.0 :   True\n",
      "        ('B', 'May') : 4020.0 : 31.200000000000003*x[B,May] + y[B,May] : 4020.0 :   True\n",
      "        ('B', 'Nov') : 3137.0 : 27.200000000000003*x[B,Nov] + y[B,Nov] : 3137.0 :   True\n",
      "        ('B', 'Oct') : 4155.0 :               29.2*x[B,Oct] + y[B,Oct] : 4155.0 :   True\n",
      "        ('B', 'Sep') : 4517.0 : 32.400000000000006*x[B,Sep] + y[B,Sep] : 4517.0 :   True\n",
      "        ('C', 'Apr') : 2261.0 :               32.0*x[C,Apr] + y[C,Apr] : 2261.0 :   True\n",
      "        ('C', 'Aug') : 2496.0 :               30.4*x[C,Aug] + y[C,Aug] : 2496.0 :   True\n",
      "        ('C', 'Dec') : 1998.0 :               26.0*x[C,Dec] + y[C,Dec] : 1998.0 :   True\n",
      "        ('C', 'Feb') : 1967.0 :               30.4*x[C,Feb] + y[C,Feb] : 1967.0 :   True\n",
      "        ('C', 'Jan') : 1162.0 : 32.400000000000006*x[C,Jan] + y[C,Jan] : 1162.0 :   True\n",
      "        ('C', 'Jul') : 2489.0 : 27.200000000000003*x[C,Jul] + y[C,Jul] : 2489.0 :   True\n",
      "        ('C', 'Jun') : 1642.0 :               29.2*x[C,Jun] + y[C,Jun] : 1642.0 :   True\n",
      "        ('C', 'Mar') : 1898.0 :               30.0*x[C,Mar] + y[C,Mar] : 1898.0 :   True\n",
      "        ('C', 'May') : 2030.0 : 31.200000000000003*x[C,May] + y[C,May] : 2030.0 :   True\n",
      "        ('C', 'Nov') :  963.0 : 27.200000000000003*x[C,Nov] + y[C,Nov] :  963.0 :   True\n",
      "        ('C', 'Oct') : 2421.0 :               29.2*x[C,Oct] + y[C,Oct] : 2421.0 :   True\n",
      "        ('C', 'Sep') :  922.0 : 32.400000000000006*x[C,Sep] + y[C,Sep] :  922.0 :   True\n",
      "    outsource_constraint1 : Size=12, Index=outsource_constraint1_index, Active=True\n",
      "        Key : Lower : Body     : Upper              : Active\n",
      "        Apr :  -Inf : y[A,Apr] :              689.1 :   True\n",
      "        Aug :  -Inf : y[A,Aug] :             1011.3 :   True\n",
      "        Dec :  -Inf : y[A,Dec] : 1554.8999999999999 :   True\n",
      "        Feb :  -Inf : y[A,Feb] : 1463.3999999999999 :   True\n",
      "        Jan :  -Inf : y[A,Jan] :             1572.0 :   True\n",
      "        Jul :  -Inf : y[A,Jul] :             1600.2 :   True\n",
      "        Jun :  -Inf : y[A,Jun] :              682.5 :   True\n",
      "        Mar :  -Inf : y[A,Mar] :             1782.6 :   True\n",
      "        May :  -Inf : y[A,May] :              597.6 :   True\n",
      "        Nov :  -Inf : y[A,Nov] :             1285.2 :   True\n",
      "        Oct :  -Inf : y[A,Oct] :             1058.7 :   True\n",
      "        Sep :  -Inf : y[A,Sep] :             1127.7 :   True\n",
      "    outsource_constraint2 : Size=12, Index=outsource_constraint2_index, Active=True\n",
      "        Key : Lower : Body     : Upper              : Active\n",
      "        Apr :  -Inf : y[B,Apr] :              935.2 :   True\n",
      "        Aug :  -Inf : y[B,Aug] :             1048.0 :   True\n",
      "        Dec :  -Inf : y[B,Dec] : 1690.8000000000002 :   True\n",
      "        Feb :  -Inf : y[B,Feb] :             1051.2 :   True\n",
      "        Jan :  -Inf : y[B,Jan] : 1970.8000000000002 :   True\n",
      "        Jul :  -Inf : y[B,Jul] :             1708.4 :   True\n",
      "        Jun :  -Inf : y[B,Jun] : 1258.8000000000002 :   True\n",
      "        Mar :  -Inf : y[B,Mar] : 1189.6000000000001 :   True\n",
      "        May :  -Inf : y[B,May] :             1608.0 :   True\n",
      "        Nov :  -Inf : y[B,Nov] : 1254.8000000000002 :   True\n",
      "        Oct :  -Inf : y[B,Oct] :             1662.0 :   True\n",
      "        Sep :  -Inf : y[B,Sep] : 1806.8000000000002 :   True\n",
      "\n",
      "17 Declarations: x_index_0 x_index_1 x_index x y_index_0 y_index_1 y_index y demand_index_0 demand_index_1 demand_index demand outsource_constraint1_index outsource_constraint1 outsource_constraint2_index outsource_constraint2 value\n"
     ]
    }
   ],
   "source": [
    "model.pprint()"
   ]
  },
  {
   "cell_type": "markdown",
   "metadata": {},
   "source": [
    "\n",
    "**`Checkpoint 1:`** Seems like the company has to spend around 17.9 m$ in total for the application approval process."
   ]
  },
  {
   "cell_type": "code",
   "execution_count": 36,
   "metadata": {},
   "outputs": [
    {
     "name": "stdout",
     "output_type": "stream",
     "text": [
      "[['A', 'Jan', 161.728395061728, 0.0, 808641.97530864, 5239.999999999987, 5240, 305.0, 5000.0, 180], ['A', 'Feb', 160.460526315789, 0.0, 802302.631578945, 4877.999999999985, 4878, 305.0, 5000.0, 180], ['A', 'Mar', 198.066666666667, 0.0, 990333.333333335, 5942.000000000011, 5942, 305.0, 5000.0, 180], ['A', 'Apr', 71.78125, 0.0, 358906.25, 2297.0, 2297, 305.0, 5000.0, 180], ['A', 'May', 63.8461538461538, 0.0, 319230.76923076896, 1991.9999999999986, 1992, 305.0, 5000.0, 180], ['A', 'Jun', 77.9109589041096, 0.0, 389554.794520548, 2275.0000000000005, 2275, 305.0, 5000.0, 180], ['A', 'Jul', 137.272058823529, 1600.2, 974396.294117645, 3733.7999999999893, 5334, 305.0, 5000.0, 180], ['A', 'Aug', 110.888157894737, 0.0, 554440.7894736851, 3371.0000000000055, 3371, 305.0, 5000.0, 180], ['A', 'Sep', 116.018518518519, 0.0, 580092.592592595, 3759.000000000016, 3759, 305.0, 5000.0, 180], ['A', 'Oct', 120.856164383562, 0.0, 604280.82191781, 3529.0000000000105, 3529, 305.0, 5000.0, 180], ['A', 'Nov', 110.25, 1285.2, 782586.0, 2998.8, 4284, 305.0, 5000.0, 180], ['A', 'Dec', 139.542307692308, 1554.9, 977593.5384615399, 3628.1000000000076, 5183, 305.0, 5000.0, 180], ['B', 'Jan', 152.067901234568, 0.0, 696977.8806584367, 4927.000000000004, 4927, 264.5833333333333, 4583.333333333333, 150], ['B', 'Feb', 51.8684210526316, 1051.2, 395410.26315789483, 1576.8000000000004, 2628, 264.5833333333333, 4583.333333333333, 150], ['B', 'Mar', 59.48, 1189.6, 451056.6666666666, 1784.3999999999999, 2974, 264.5833333333333, 4583.333333333333, 150], ['B', 'Apr', 73.0625, 0.0, 334869.7916666666, 2338.0, 2338, 264.5833333333333, 4583.333333333333, 150], ['B', 'May', 128.846153846154, 0.0, 590544.8717948725, 4020.0000000000055, 4020, 264.5833333333333, 4583.333333333333, 150], ['B', 'Jun', 64.6643835616438, 1258.8, 485198.42465753405, 1888.1999999999991, 3147, 264.5833333333333, 4583.333333333333, 150], ['B', 'Jul', 94.2132352941176, 1708.4, 688070.6617647056, 2562.5999999999985, 4271, 264.5833333333333, 4583.333333333333, 150], ['B', 'Aug', 51.7105263157895, 1048.0, 394206.57894736854, 1572.000000000001, 2620, 264.5833333333333, 4583.333333333333, 150], ['B', 'Sep', 139.413580246914, 0.0, 638978.9094650224, 4517.000000000014, 4517, 264.5833333333333, 4583.333333333333, 150], ['B', 'Oct', 85.3767123287671, 1662.0, 640609.9315068491, 2492.999999999999, 4155, 264.5833333333333, 4583.333333333333, 150], ['B', 'Nov', 69.1985294117647, 1254.8, 505379.9264705882, 1882.1999999999998, 3137, 264.5833333333333, 4583.333333333333, 150], ['B', 'Dec', 97.5461538461538, 1690.8, 700706.5384615383, 2536.199999999999, 4227, 264.5833333333333, 4583.333333333333, 150], ['C', 'Jan', 35.8641975308642, 0.0, 158400.2057613169, 1162.0000000000002, 1162, 270.4166666666667, 4416.666666666667, 160], ['C', 'Feb', 64.7039473684211, 0.0, 285775.76754385984, 1967.0000000000014, 1967, 270.4166666666667, 4416.666666666667, 160], ['C', 'Mar', 63.2666666666667, 0.0, 279427.7777777779, 1898.000000000001, 1898, 270.4166666666667, 4416.666666666667, 160], ['C', 'Apr', 70.65625, 0.0, 312065.1041666667, 2261.0, 2261, 270.4166666666667, 4416.666666666667, 160], ['C', 'May', 65.0641025641026, 0.0, 287366.4529914532, 2030.0000000000011, 2030, 270.4166666666667, 4416.666666666667, 160], ['C', 'Jun', 56.2328767123288, 0.0, 248361.8721461189, 1642.000000000001, 1642, 270.4166666666667, 4416.666666666667, 160], ['C', 'Jul', 0.0, 2489.0, 398240.0, 0.0, 2489, 270.4166666666667, 4416.666666666667, 160], ['C', 'Aug', 82.1052631578947, 0.0, 362631.57894736825, 2495.9999999999986, 2496, 270.4166666666667, 4416.666666666667, 160], ['C', 'Sep', 28.4567901234568, 0.0, 125684.15637860086, 922.0000000000005, 922, 270.4166666666667, 4416.666666666667, 160], ['C', 'Oct', 82.9109589041096, 0.0, 366190.06849315076, 2421.0000000000005, 2421, 270.4166666666667, 4416.666666666667, 160], ['C', 'Nov', 0.0, 963.0, 154080.0, 0.0, 963, 270.4166666666667, 4416.666666666667, 160], ['C', 'Dec', 0.0, 1998.0, 319680.0, 0.0, 1998, 270.4166666666667, 4416.666666666667, 160]]\n"
     ]
    }
   ],
   "source": [
    "# Creating dataframe for the results\n",
    "\n",
    "#Creating an empty list\n",
    "Output = []\n",
    "\n",
    "# For every iteration, the code below will create a list containing values of state, month, number of staff, outsourced and\n",
    "# cost for those parameters\n",
    "\n",
    "for s in State:\n",
    "    for m in Month:\n",
    "        \n",
    "        #Number of calls to be made for each segment\n",
    "        staff=model.x[s,m].value\n",
    "        \n",
    "        #converted calls\n",
    "        outsource=model.y[s,m].value\n",
    "        \n",
    "        Total_monthly_cost=model.x[s,m].value*Staff[s,m]+model.y[s,m].value*UnitOutSourceCost[s,m]\n",
    "        \n",
    "        staff_Appl = model.x[s,m].value * 40 * StaffAvPer[s,m]\n",
    "        \n",
    "        Demand_col = Demand[s,m]\n",
    "        \n",
    "        Per_Appl_cost = (Staff[s,m]/40) + UnitOutSourceCost[s,m]\n",
    "        \n",
    "       \n",
    "        Staff_cost=Staff[s,m]\n",
    "        Outsource_cost=UnitOutSourceCost[s,m]\n",
    "        \n",
    "        Output.append([s,m,staff,outsource,Total_monthly_cost,staff_Appl,Demand_col,Per_Appl_cost,Staff_cost,Outsource_cost])\n",
    "        \n",
    "print(Output)"
   ]
  },
  {
   "cell_type": "code",
   "execution_count": 37,
   "metadata": {},
   "outputs": [],
   "source": [
    "#Converting a 2D list into a dataframe\n",
    "Output = pd.DataFrame(Output,columns=['State', 'Month','Number of Staffs','Number of Outsource','Total Monthly Cost',\n",
    "                                      'Staff Applications','Demand','Per Application Cost','Staff Cost','Outsource cost'])"
   ]
  },
  {
   "cell_type": "code",
   "execution_count": 38,
   "metadata": {},
   "outputs": [
    {
     "data": {
      "text/html": [
       "<div>\n",
       "<style scoped>\n",
       "    .dataframe tbody tr th:only-of-type {\n",
       "        vertical-align: middle;\n",
       "    }\n",
       "\n",
       "    .dataframe tbody tr th {\n",
       "        vertical-align: top;\n",
       "    }\n",
       "\n",
       "    .dataframe thead th {\n",
       "        text-align: right;\n",
       "    }\n",
       "</style>\n",
       "<table border=\"1\" class=\"dataframe\">\n",
       "  <thead>\n",
       "    <tr style=\"text-align: right;\">\n",
       "      <th></th>\n",
       "      <th>State</th>\n",
       "      <th>Month</th>\n",
       "      <th>Number of Staffs</th>\n",
       "      <th>Number of Outsource</th>\n",
       "      <th>Total Monthly Cost</th>\n",
       "      <th>Staff Applications</th>\n",
       "      <th>Demand</th>\n",
       "      <th>Per Application Cost</th>\n",
       "      <th>Staff Cost</th>\n",
       "      <th>Outsource cost</th>\n",
       "    </tr>\n",
       "  </thead>\n",
       "  <tbody>\n",
       "    <tr>\n",
       "      <th>0</th>\n",
       "      <td>A</td>\n",
       "      <td>Jan</td>\n",
       "      <td>161.728395</td>\n",
       "      <td>0.0</td>\n",
       "      <td>808641.975309</td>\n",
       "      <td>5240.0</td>\n",
       "      <td>5240</td>\n",
       "      <td>305.000000</td>\n",
       "      <td>5000.000000</td>\n",
       "      <td>180</td>\n",
       "    </tr>\n",
       "    <tr>\n",
       "      <th>1</th>\n",
       "      <td>A</td>\n",
       "      <td>Feb</td>\n",
       "      <td>160.460526</td>\n",
       "      <td>0.0</td>\n",
       "      <td>802302.631579</td>\n",
       "      <td>4878.0</td>\n",
       "      <td>4878</td>\n",
       "      <td>305.000000</td>\n",
       "      <td>5000.000000</td>\n",
       "      <td>180</td>\n",
       "    </tr>\n",
       "    <tr>\n",
       "      <th>2</th>\n",
       "      <td>A</td>\n",
       "      <td>Mar</td>\n",
       "      <td>198.066667</td>\n",
       "      <td>0.0</td>\n",
       "      <td>990333.333333</td>\n",
       "      <td>5942.0</td>\n",
       "      <td>5942</td>\n",
       "      <td>305.000000</td>\n",
       "      <td>5000.000000</td>\n",
       "      <td>180</td>\n",
       "    </tr>\n",
       "    <tr>\n",
       "      <th>3</th>\n",
       "      <td>A</td>\n",
       "      <td>Apr</td>\n",
       "      <td>71.781250</td>\n",
       "      <td>0.0</td>\n",
       "      <td>358906.250000</td>\n",
       "      <td>2297.0</td>\n",
       "      <td>2297</td>\n",
       "      <td>305.000000</td>\n",
       "      <td>5000.000000</td>\n",
       "      <td>180</td>\n",
       "    </tr>\n",
       "    <tr>\n",
       "      <th>4</th>\n",
       "      <td>A</td>\n",
       "      <td>May</td>\n",
       "      <td>63.846154</td>\n",
       "      <td>0.0</td>\n",
       "      <td>319230.769231</td>\n",
       "      <td>1992.0</td>\n",
       "      <td>1992</td>\n",
       "      <td>305.000000</td>\n",
       "      <td>5000.000000</td>\n",
       "      <td>180</td>\n",
       "    </tr>\n",
       "    <tr>\n",
       "      <th>5</th>\n",
       "      <td>A</td>\n",
       "      <td>Jun</td>\n",
       "      <td>77.910959</td>\n",
       "      <td>0.0</td>\n",
       "      <td>389554.794521</td>\n",
       "      <td>2275.0</td>\n",
       "      <td>2275</td>\n",
       "      <td>305.000000</td>\n",
       "      <td>5000.000000</td>\n",
       "      <td>180</td>\n",
       "    </tr>\n",
       "    <tr>\n",
       "      <th>6</th>\n",
       "      <td>A</td>\n",
       "      <td>Jul</td>\n",
       "      <td>137.272059</td>\n",
       "      <td>1600.2</td>\n",
       "      <td>974396.294118</td>\n",
       "      <td>3733.8</td>\n",
       "      <td>5334</td>\n",
       "      <td>305.000000</td>\n",
       "      <td>5000.000000</td>\n",
       "      <td>180</td>\n",
       "    </tr>\n",
       "    <tr>\n",
       "      <th>7</th>\n",
       "      <td>A</td>\n",
       "      <td>Aug</td>\n",
       "      <td>110.888158</td>\n",
       "      <td>0.0</td>\n",
       "      <td>554440.789474</td>\n",
       "      <td>3371.0</td>\n",
       "      <td>3371</td>\n",
       "      <td>305.000000</td>\n",
       "      <td>5000.000000</td>\n",
       "      <td>180</td>\n",
       "    </tr>\n",
       "    <tr>\n",
       "      <th>8</th>\n",
       "      <td>A</td>\n",
       "      <td>Sep</td>\n",
       "      <td>116.018519</td>\n",
       "      <td>0.0</td>\n",
       "      <td>580092.592593</td>\n",
       "      <td>3759.0</td>\n",
       "      <td>3759</td>\n",
       "      <td>305.000000</td>\n",
       "      <td>5000.000000</td>\n",
       "      <td>180</td>\n",
       "    </tr>\n",
       "    <tr>\n",
       "      <th>9</th>\n",
       "      <td>A</td>\n",
       "      <td>Oct</td>\n",
       "      <td>120.856164</td>\n",
       "      <td>0.0</td>\n",
       "      <td>604280.821918</td>\n",
       "      <td>3529.0</td>\n",
       "      <td>3529</td>\n",
       "      <td>305.000000</td>\n",
       "      <td>5000.000000</td>\n",
       "      <td>180</td>\n",
       "    </tr>\n",
       "    <tr>\n",
       "      <th>10</th>\n",
       "      <td>A</td>\n",
       "      <td>Nov</td>\n",
       "      <td>110.250000</td>\n",
       "      <td>1285.2</td>\n",
       "      <td>782586.000000</td>\n",
       "      <td>2998.8</td>\n",
       "      <td>4284</td>\n",
       "      <td>305.000000</td>\n",
       "      <td>5000.000000</td>\n",
       "      <td>180</td>\n",
       "    </tr>\n",
       "    <tr>\n",
       "      <th>11</th>\n",
       "      <td>A</td>\n",
       "      <td>Dec</td>\n",
       "      <td>139.542308</td>\n",
       "      <td>1554.9</td>\n",
       "      <td>977593.538462</td>\n",
       "      <td>3628.1</td>\n",
       "      <td>5183</td>\n",
       "      <td>305.000000</td>\n",
       "      <td>5000.000000</td>\n",
       "      <td>180</td>\n",
       "    </tr>\n",
       "    <tr>\n",
       "      <th>12</th>\n",
       "      <td>B</td>\n",
       "      <td>Jan</td>\n",
       "      <td>152.067901</td>\n",
       "      <td>0.0</td>\n",
       "      <td>696977.880658</td>\n",
       "      <td>4927.0</td>\n",
       "      <td>4927</td>\n",
       "      <td>264.583333</td>\n",
       "      <td>4583.333333</td>\n",
       "      <td>150</td>\n",
       "    </tr>\n",
       "    <tr>\n",
       "      <th>13</th>\n",
       "      <td>B</td>\n",
       "      <td>Feb</td>\n",
       "      <td>51.868421</td>\n",
       "      <td>1051.2</td>\n",
       "      <td>395410.263158</td>\n",
       "      <td>1576.8</td>\n",
       "      <td>2628</td>\n",
       "      <td>264.583333</td>\n",
       "      <td>4583.333333</td>\n",
       "      <td>150</td>\n",
       "    </tr>\n",
       "    <tr>\n",
       "      <th>14</th>\n",
       "      <td>B</td>\n",
       "      <td>Mar</td>\n",
       "      <td>59.480000</td>\n",
       "      <td>1189.6</td>\n",
       "      <td>451056.666667</td>\n",
       "      <td>1784.4</td>\n",
       "      <td>2974</td>\n",
       "      <td>264.583333</td>\n",
       "      <td>4583.333333</td>\n",
       "      <td>150</td>\n",
       "    </tr>\n",
       "    <tr>\n",
       "      <th>15</th>\n",
       "      <td>B</td>\n",
       "      <td>Apr</td>\n",
       "      <td>73.062500</td>\n",
       "      <td>0.0</td>\n",
       "      <td>334869.791667</td>\n",
       "      <td>2338.0</td>\n",
       "      <td>2338</td>\n",
       "      <td>264.583333</td>\n",
       "      <td>4583.333333</td>\n",
       "      <td>150</td>\n",
       "    </tr>\n",
       "    <tr>\n",
       "      <th>16</th>\n",
       "      <td>B</td>\n",
       "      <td>May</td>\n",
       "      <td>128.846154</td>\n",
       "      <td>0.0</td>\n",
       "      <td>590544.871795</td>\n",
       "      <td>4020.0</td>\n",
       "      <td>4020</td>\n",
       "      <td>264.583333</td>\n",
       "      <td>4583.333333</td>\n",
       "      <td>150</td>\n",
       "    </tr>\n",
       "    <tr>\n",
       "      <th>17</th>\n",
       "      <td>B</td>\n",
       "      <td>Jun</td>\n",
       "      <td>64.664384</td>\n",
       "      <td>1258.8</td>\n",
       "      <td>485198.424658</td>\n",
       "      <td>1888.2</td>\n",
       "      <td>3147</td>\n",
       "      <td>264.583333</td>\n",
       "      <td>4583.333333</td>\n",
       "      <td>150</td>\n",
       "    </tr>\n",
       "    <tr>\n",
       "      <th>18</th>\n",
       "      <td>B</td>\n",
       "      <td>Jul</td>\n",
       "      <td>94.213235</td>\n",
       "      <td>1708.4</td>\n",
       "      <td>688070.661765</td>\n",
       "      <td>2562.6</td>\n",
       "      <td>4271</td>\n",
       "      <td>264.583333</td>\n",
       "      <td>4583.333333</td>\n",
       "      <td>150</td>\n",
       "    </tr>\n",
       "    <tr>\n",
       "      <th>19</th>\n",
       "      <td>B</td>\n",
       "      <td>Aug</td>\n",
       "      <td>51.710526</td>\n",
       "      <td>1048.0</td>\n",
       "      <td>394206.578947</td>\n",
       "      <td>1572.0</td>\n",
       "      <td>2620</td>\n",
       "      <td>264.583333</td>\n",
       "      <td>4583.333333</td>\n",
       "      <td>150</td>\n",
       "    </tr>\n",
       "    <tr>\n",
       "      <th>20</th>\n",
       "      <td>B</td>\n",
       "      <td>Sep</td>\n",
       "      <td>139.413580</td>\n",
       "      <td>0.0</td>\n",
       "      <td>638978.909465</td>\n",
       "      <td>4517.0</td>\n",
       "      <td>4517</td>\n",
       "      <td>264.583333</td>\n",
       "      <td>4583.333333</td>\n",
       "      <td>150</td>\n",
       "    </tr>\n",
       "    <tr>\n",
       "      <th>21</th>\n",
       "      <td>B</td>\n",
       "      <td>Oct</td>\n",
       "      <td>85.376712</td>\n",
       "      <td>1662.0</td>\n",
       "      <td>640609.931507</td>\n",
       "      <td>2493.0</td>\n",
       "      <td>4155</td>\n",
       "      <td>264.583333</td>\n",
       "      <td>4583.333333</td>\n",
       "      <td>150</td>\n",
       "    </tr>\n",
       "    <tr>\n",
       "      <th>22</th>\n",
       "      <td>B</td>\n",
       "      <td>Nov</td>\n",
       "      <td>69.198529</td>\n",
       "      <td>1254.8</td>\n",
       "      <td>505379.926471</td>\n",
       "      <td>1882.2</td>\n",
       "      <td>3137</td>\n",
       "      <td>264.583333</td>\n",
       "      <td>4583.333333</td>\n",
       "      <td>150</td>\n",
       "    </tr>\n",
       "    <tr>\n",
       "      <th>23</th>\n",
       "      <td>B</td>\n",
       "      <td>Dec</td>\n",
       "      <td>97.546154</td>\n",
       "      <td>1690.8</td>\n",
       "      <td>700706.538462</td>\n",
       "      <td>2536.2</td>\n",
       "      <td>4227</td>\n",
       "      <td>264.583333</td>\n",
       "      <td>4583.333333</td>\n",
       "      <td>150</td>\n",
       "    </tr>\n",
       "    <tr>\n",
       "      <th>24</th>\n",
       "      <td>C</td>\n",
       "      <td>Jan</td>\n",
       "      <td>35.864198</td>\n",
       "      <td>0.0</td>\n",
       "      <td>158400.205761</td>\n",
       "      <td>1162.0</td>\n",
       "      <td>1162</td>\n",
       "      <td>270.416667</td>\n",
       "      <td>4416.666667</td>\n",
       "      <td>160</td>\n",
       "    </tr>\n",
       "    <tr>\n",
       "      <th>25</th>\n",
       "      <td>C</td>\n",
       "      <td>Feb</td>\n",
       "      <td>64.703947</td>\n",
       "      <td>0.0</td>\n",
       "      <td>285775.767544</td>\n",
       "      <td>1967.0</td>\n",
       "      <td>1967</td>\n",
       "      <td>270.416667</td>\n",
       "      <td>4416.666667</td>\n",
       "      <td>160</td>\n",
       "    </tr>\n",
       "    <tr>\n",
       "      <th>26</th>\n",
       "      <td>C</td>\n",
       "      <td>Mar</td>\n",
       "      <td>63.266667</td>\n",
       "      <td>0.0</td>\n",
       "      <td>279427.777778</td>\n",
       "      <td>1898.0</td>\n",
       "      <td>1898</td>\n",
       "      <td>270.416667</td>\n",
       "      <td>4416.666667</td>\n",
       "      <td>160</td>\n",
       "    </tr>\n",
       "    <tr>\n",
       "      <th>27</th>\n",
       "      <td>C</td>\n",
       "      <td>Apr</td>\n",
       "      <td>70.656250</td>\n",
       "      <td>0.0</td>\n",
       "      <td>312065.104167</td>\n",
       "      <td>2261.0</td>\n",
       "      <td>2261</td>\n",
       "      <td>270.416667</td>\n",
       "      <td>4416.666667</td>\n",
       "      <td>160</td>\n",
       "    </tr>\n",
       "    <tr>\n",
       "      <th>28</th>\n",
       "      <td>C</td>\n",
       "      <td>May</td>\n",
       "      <td>65.064103</td>\n",
       "      <td>0.0</td>\n",
       "      <td>287366.452991</td>\n",
       "      <td>2030.0</td>\n",
       "      <td>2030</td>\n",
       "      <td>270.416667</td>\n",
       "      <td>4416.666667</td>\n",
       "      <td>160</td>\n",
       "    </tr>\n",
       "    <tr>\n",
       "      <th>29</th>\n",
       "      <td>C</td>\n",
       "      <td>Jun</td>\n",
       "      <td>56.232877</td>\n",
       "      <td>0.0</td>\n",
       "      <td>248361.872146</td>\n",
       "      <td>1642.0</td>\n",
       "      <td>1642</td>\n",
       "      <td>270.416667</td>\n",
       "      <td>4416.666667</td>\n",
       "      <td>160</td>\n",
       "    </tr>\n",
       "    <tr>\n",
       "      <th>30</th>\n",
       "      <td>C</td>\n",
       "      <td>Jul</td>\n",
       "      <td>0.000000</td>\n",
       "      <td>2489.0</td>\n",
       "      <td>398240.000000</td>\n",
       "      <td>0.0</td>\n",
       "      <td>2489</td>\n",
       "      <td>270.416667</td>\n",
       "      <td>4416.666667</td>\n",
       "      <td>160</td>\n",
       "    </tr>\n",
       "    <tr>\n",
       "      <th>31</th>\n",
       "      <td>C</td>\n",
       "      <td>Aug</td>\n",
       "      <td>82.105263</td>\n",
       "      <td>0.0</td>\n",
       "      <td>362631.578947</td>\n",
       "      <td>2496.0</td>\n",
       "      <td>2496</td>\n",
       "      <td>270.416667</td>\n",
       "      <td>4416.666667</td>\n",
       "      <td>160</td>\n",
       "    </tr>\n",
       "    <tr>\n",
       "      <th>32</th>\n",
       "      <td>C</td>\n",
       "      <td>Sep</td>\n",
       "      <td>28.456790</td>\n",
       "      <td>0.0</td>\n",
       "      <td>125684.156379</td>\n",
       "      <td>922.0</td>\n",
       "      <td>922</td>\n",
       "      <td>270.416667</td>\n",
       "      <td>4416.666667</td>\n",
       "      <td>160</td>\n",
       "    </tr>\n",
       "    <tr>\n",
       "      <th>33</th>\n",
       "      <td>C</td>\n",
       "      <td>Oct</td>\n",
       "      <td>82.910959</td>\n",
       "      <td>0.0</td>\n",
       "      <td>366190.068493</td>\n",
       "      <td>2421.0</td>\n",
       "      <td>2421</td>\n",
       "      <td>270.416667</td>\n",
       "      <td>4416.666667</td>\n",
       "      <td>160</td>\n",
       "    </tr>\n",
       "    <tr>\n",
       "      <th>34</th>\n",
       "      <td>C</td>\n",
       "      <td>Nov</td>\n",
       "      <td>0.000000</td>\n",
       "      <td>963.0</td>\n",
       "      <td>154080.000000</td>\n",
       "      <td>0.0</td>\n",
       "      <td>963</td>\n",
       "      <td>270.416667</td>\n",
       "      <td>4416.666667</td>\n",
       "      <td>160</td>\n",
       "    </tr>\n",
       "    <tr>\n",
       "      <th>35</th>\n",
       "      <td>C</td>\n",
       "      <td>Dec</td>\n",
       "      <td>0.000000</td>\n",
       "      <td>1998.0</td>\n",
       "      <td>319680.000000</td>\n",
       "      <td>0.0</td>\n",
       "      <td>1998</td>\n",
       "      <td>270.416667</td>\n",
       "      <td>4416.666667</td>\n",
       "      <td>160</td>\n",
       "    </tr>\n",
       "  </tbody>\n",
       "</table>\n",
       "</div>"
      ],
      "text/plain": [
       "   State Month  Number of Staffs  Number of Outsource  Total Monthly Cost  \\\n",
       "0      A   Jan        161.728395                  0.0       808641.975309   \n",
       "1      A   Feb        160.460526                  0.0       802302.631579   \n",
       "2      A   Mar        198.066667                  0.0       990333.333333   \n",
       "3      A   Apr         71.781250                  0.0       358906.250000   \n",
       "4      A   May         63.846154                  0.0       319230.769231   \n",
       "5      A   Jun         77.910959                  0.0       389554.794521   \n",
       "6      A   Jul        137.272059               1600.2       974396.294118   \n",
       "7      A   Aug        110.888158                  0.0       554440.789474   \n",
       "8      A   Sep        116.018519                  0.0       580092.592593   \n",
       "9      A   Oct        120.856164                  0.0       604280.821918   \n",
       "10     A   Nov        110.250000               1285.2       782586.000000   \n",
       "11     A   Dec        139.542308               1554.9       977593.538462   \n",
       "12     B   Jan        152.067901                  0.0       696977.880658   \n",
       "13     B   Feb         51.868421               1051.2       395410.263158   \n",
       "14     B   Mar         59.480000               1189.6       451056.666667   \n",
       "15     B   Apr         73.062500                  0.0       334869.791667   \n",
       "16     B   May        128.846154                  0.0       590544.871795   \n",
       "17     B   Jun         64.664384               1258.8       485198.424658   \n",
       "18     B   Jul         94.213235               1708.4       688070.661765   \n",
       "19     B   Aug         51.710526               1048.0       394206.578947   \n",
       "20     B   Sep        139.413580                  0.0       638978.909465   \n",
       "21     B   Oct         85.376712               1662.0       640609.931507   \n",
       "22     B   Nov         69.198529               1254.8       505379.926471   \n",
       "23     B   Dec         97.546154               1690.8       700706.538462   \n",
       "24     C   Jan         35.864198                  0.0       158400.205761   \n",
       "25     C   Feb         64.703947                  0.0       285775.767544   \n",
       "26     C   Mar         63.266667                  0.0       279427.777778   \n",
       "27     C   Apr         70.656250                  0.0       312065.104167   \n",
       "28     C   May         65.064103                  0.0       287366.452991   \n",
       "29     C   Jun         56.232877                  0.0       248361.872146   \n",
       "30     C   Jul          0.000000               2489.0       398240.000000   \n",
       "31     C   Aug         82.105263                  0.0       362631.578947   \n",
       "32     C   Sep         28.456790                  0.0       125684.156379   \n",
       "33     C   Oct         82.910959                  0.0       366190.068493   \n",
       "34     C   Nov          0.000000                963.0       154080.000000   \n",
       "35     C   Dec          0.000000               1998.0       319680.000000   \n",
       "\n",
       "    Staff Applications  Demand  Per Application Cost   Staff Cost  \\\n",
       "0               5240.0    5240            305.000000  5000.000000   \n",
       "1               4878.0    4878            305.000000  5000.000000   \n",
       "2               5942.0    5942            305.000000  5000.000000   \n",
       "3               2297.0    2297            305.000000  5000.000000   \n",
       "4               1992.0    1992            305.000000  5000.000000   \n",
       "5               2275.0    2275            305.000000  5000.000000   \n",
       "6               3733.8    5334            305.000000  5000.000000   \n",
       "7               3371.0    3371            305.000000  5000.000000   \n",
       "8               3759.0    3759            305.000000  5000.000000   \n",
       "9               3529.0    3529            305.000000  5000.000000   \n",
       "10              2998.8    4284            305.000000  5000.000000   \n",
       "11              3628.1    5183            305.000000  5000.000000   \n",
       "12              4927.0    4927            264.583333  4583.333333   \n",
       "13              1576.8    2628            264.583333  4583.333333   \n",
       "14              1784.4    2974            264.583333  4583.333333   \n",
       "15              2338.0    2338            264.583333  4583.333333   \n",
       "16              4020.0    4020            264.583333  4583.333333   \n",
       "17              1888.2    3147            264.583333  4583.333333   \n",
       "18              2562.6    4271            264.583333  4583.333333   \n",
       "19              1572.0    2620            264.583333  4583.333333   \n",
       "20              4517.0    4517            264.583333  4583.333333   \n",
       "21              2493.0    4155            264.583333  4583.333333   \n",
       "22              1882.2    3137            264.583333  4583.333333   \n",
       "23              2536.2    4227            264.583333  4583.333333   \n",
       "24              1162.0    1162            270.416667  4416.666667   \n",
       "25              1967.0    1967            270.416667  4416.666667   \n",
       "26              1898.0    1898            270.416667  4416.666667   \n",
       "27              2261.0    2261            270.416667  4416.666667   \n",
       "28              2030.0    2030            270.416667  4416.666667   \n",
       "29              1642.0    1642            270.416667  4416.666667   \n",
       "30                 0.0    2489            270.416667  4416.666667   \n",
       "31              2496.0    2496            270.416667  4416.666667   \n",
       "32               922.0     922            270.416667  4416.666667   \n",
       "33              2421.0    2421            270.416667  4416.666667   \n",
       "34                 0.0     963            270.416667  4416.666667   \n",
       "35                 0.0    1998            270.416667  4416.666667   \n",
       "\n",
       "    Outsource cost  \n",
       "0              180  \n",
       "1              180  \n",
       "2              180  \n",
       "3              180  \n",
       "4              180  \n",
       "5              180  \n",
       "6              180  \n",
       "7              180  \n",
       "8              180  \n",
       "9              180  \n",
       "10             180  \n",
       "11             180  \n",
       "12             150  \n",
       "13             150  \n",
       "14             150  \n",
       "15             150  \n",
       "16             150  \n",
       "17             150  \n",
       "18             150  \n",
       "19             150  \n",
       "20             150  \n",
       "21             150  \n",
       "22             150  \n",
       "23             150  \n",
       "24             160  \n",
       "25             160  \n",
       "26             160  \n",
       "27             160  \n",
       "28             160  \n",
       "29             160  \n",
       "30             160  \n",
       "31             160  \n",
       "32             160  \n",
       "33             160  \n",
       "34             160  \n",
       "35             160  "
      ]
     },
     "execution_count": 38,
     "metadata": {},
     "output_type": "execute_result"
    }
   ],
   "source": [
    "Output"
   ]
  },
  {
   "cell_type": "code",
   "execution_count": 39,
   "metadata": {},
   "outputs": [
    {
     "data": {
      "text/plain": [
       "17962273.219959967"
      ]
     },
     "execution_count": 39,
     "metadata": {},
     "output_type": "execute_result"
    }
   ],
   "source": [
    "# Calculating sum of monthly cost\n",
    "Output['Total Monthly Cost'].sum()"
   ]
  },
  {
   "cell_type": "code",
   "execution_count": 40,
   "metadata": {},
   "outputs": [
    {
     "data": {
      "text/plain": [
       "498952.03388777695"
      ]
     },
     "execution_count": 40,
     "metadata": {},
     "output_type": "execute_result"
    }
   ],
   "source": [
    "# Calculating average of monthly cost\n",
    "Output['Total Monthly Cost'].mean()"
   ]
  },
  {
   "cell_type": "code",
   "execution_count": 41,
   "metadata": {},
   "outputs": [
    {
     "data": {
      "text/plain": [
       "576.4972222222223"
      ]
     },
     "execution_count": 41,
     "metadata": {},
     "output_type": "execute_result"
    }
   ],
   "source": [
    "# Calculating average of Outsourced staffs\n",
    "Output['Number of Outsource'].mean()"
   ]
  },
  {
   "cell_type": "code",
   "execution_count": 42,
   "metadata": {},
   "outputs": [
    {
     "data": {
      "text/plain": [
       "20753.899999999998"
      ]
     },
     "execution_count": 42,
     "metadata": {},
     "output_type": "execute_result"
    }
   ],
   "source": [
    "# Calculating sum of Outsourced staffs\n",
    "Output['Number of Outsource'].sum()"
   ]
  },
  {
   "cell_type": "code",
   "execution_count": 43,
   "metadata": {},
   "outputs": [
    {
     "data": {
      "text/plain": [
       "85.70361967426254"
      ]
     },
     "execution_count": 43,
     "metadata": {},
     "output_type": "execute_result"
    }
   ],
   "source": [
    "# Calculating average of Total staffs\n",
    "Output['Number of Staffs'].mean()"
   ]
  },
  {
   "cell_type": "code",
   "execution_count": 44,
   "metadata": {},
   "outputs": [
    {
     "data": {
      "text/plain": [
       "3085.330308273451"
      ]
     },
     "execution_count": 44,
     "metadata": {},
     "output_type": "execute_result"
    }
   ],
   "source": [
    "# Calculating sum of Total staffs\n",
    "Output['Number of Staffs'].sum()"
   ]
  },
  {
   "cell_type": "code",
   "execution_count": 45,
   "metadata": {},
   "outputs": [
    {
     "data": {
      "text/plain": [
       "753.4753843846261"
      ]
     },
     "execution_count": 45,
     "metadata": {},
     "output_type": "execute_result"
    }
   ],
   "source": [
    "# Calculating Average Monthly cost\n",
    "avg = Output['Total Monthly Cost'].sum()/(Output['Number of Outsource'].sum()+Output['Number of Staffs'].sum())\n",
    "avg"
   ]
  },
  {
   "cell_type": "code",
   "execution_count": 46,
   "metadata": {},
   "outputs": [
    {
     "data": {
      "text/plain": [
       "113294"
      ]
     },
     "execution_count": 46,
     "metadata": {},
     "output_type": "execute_result"
    }
   ],
   "source": [
    "# Calculating Total demand\n",
    "total_demand = Output['Demand'].sum()\n",
    "total_demand"
   ]
  },
  {
   "cell_type": "code",
   "execution_count": 47,
   "metadata": {},
   "outputs": [
    {
     "data": {
      "text/plain": [
       "158.54567073243038"
      ]
     },
     "execution_count": 47,
     "metadata": {},
     "output_type": "execute_result"
    }
   ],
   "source": [
    "# Calculating cost per demand\n",
    "cost_per_d = Output['Total Monthly Cost'].sum()/total_demand\n",
    "cost_per_d"
   ]
  },
  {
   "cell_type": "code",
   "execution_count": 48,
   "metadata": {},
   "outputs": [
    {
     "data": {
      "text/plain": [
       "753.4753843846262"
      ]
     },
     "execution_count": 48,
     "metadata": {},
     "output_type": "execute_result"
    }
   ],
   "source": [
    "# Calculating average application cost\n",
    "Avg_per_app = Output['Total Monthly Cost'].mean()/(Output['Number of Outsource'].mean()+Output['Number of Staffs'].mean())\n",
    "Avg_per_app"
   ]
  },
  {
   "cell_type": "code",
   "execution_count": 49,
   "metadata": {},
   "outputs": [],
   "source": [
    "# Writing the results in to an Excel sheet\n",
    "# Importing the required library\n",
    "from openpyxl import load_workbook"
   ]
  },
  {
   "cell_type": "code",
   "execution_count": 50,
   "metadata": {},
   "outputs": [],
   "source": [
    "book = pd.DataFrame(Output)\n",
    "book.to_excel(\"Staff_Outsource_Distribution.xlsx\")  "
   ]
  },
  {
   "cell_type": "markdown",
   "metadata": {},
   "source": [
    "# Question 3\n",
    "\n",
    "#### Worst-case and best-case analysis based on the staffs' availability.\n",
    "\n",
    "Assuming that the distribution is the same across all the states,\n",
    "\n",
    "#### 3.1 Worst case analysis \n",
    "\n",
    "- 3.1.1 What is the optimal number of staff members for the worst and best cases? \n",
    "\n",
    "- 3.1.2 What is the percentage of outsourcing for the worst and best cases? \n",
    "\n",
    "- 3.1.3 What is the average cost per application for the worst and best cases?\n",
    "\n",
    "\n",
    "#### 3.2 Best case analysis \n",
    "\n",
    "- 3.2.1 What is the optimal number of staff members for the worst and best cases? \n",
    "\n",
    "- 3.2.2 What is the percentage of outsourcing for the worst and best cases? \n",
    "\n",
    "- 3.2.3 What is the average cost per application for the worst and best cases?\n"
   ]
  },
  {
   "cell_type": "markdown",
   "metadata": {},
   "source": [
    "### 3.1 Worst Case Analysis "
   ]
  },
  {
   "cell_type": "markdown",
   "metadata": {},
   "source": [
    "\n",
    "#### 3.1.1 Optimal number of staff members"
   ]
  },
  {
   "cell_type": "code",
   "execution_count": 51,
   "metadata": {},
   "outputs": [],
   "source": [
    "# Creating a model instance\n",
    "model3 = ConcreteModel()"
   ]
  },
  {
   "cell_type": "raw",
   "metadata": {},
   "source": [
    "# Define Pyomo sets and Parameters\n",
    "\n",
    " number of staffs = i\n",
    " number of outsourced employees = j\n",
    " Demand = staff_availability*40*x+y\n",
    " FTE-Staff Sal = Staff\n",
    " Outsource cost = UnitOutSourceCost\n",
    " Staff availability = 40xStaffAvPer\n",
    " \n",
    " \n",
    "#  # Define Pyomo sets and Parameters\n",
    "# model.location=Set(initialize=State.tolist(), doc='States')\n",
    "# model.months=Set(initialize=Month.tolist(), doc='Months')\n",
    "\n",
    "# model.demand=Param(model.location, model.months, initialize=Demand, doc='Demand')\n",
    "# model.salary=Param(model.location, model.months, initialize=FTE_Salary, doc='Salary')\n",
    "# model.outsource=Param(model.location, model.months, initialize=UnitOutsourceCost, doc='Outsource')\n",
    "# model.StaffAvl_LB=Param(model.location, model.months, initialize=StaffAv_LB, doc='StaffAvl_LB')\n",
    "# model.StaffAvl_UB=Param(model.location, model.months, initialize=StaffAv_UB, doc='StaffAvl_UB')\n",
    "# model.StaffAvlPer=Param(model.location, model.months, initialize=StaffAvPer, doc='StaffAvlPer')"
   ]
  },
  {
   "cell_type": "code",
   "execution_count": 52,
   "metadata": {},
   "outputs": [],
   "source": [
    "# Decision variables\n",
    "model3.i = Var(State, Month, within=PositiveReals, initialize=70000)\n",
    "model3.j = Var(State, Month, within=PositiveReals, initialize=70000)"
   ]
  },
  {
   "cell_type": "code",
   "execution_count": 53,
   "metadata": {},
   "outputs": [],
   "source": [
    "# Constraints\n",
    "def demand3(model3,s,m):\n",
    "    return (model3.i[s,m]*40*StaffAvail_LB[s,m]+model3.j[s,m])==Demand[s,m]"
   ]
  },
  {
   "cell_type": "code",
   "execution_count": 54,
   "metadata": {},
   "outputs": [],
   "source": [
    "model3.availability = Constraint(State,Month,rule=demand3)"
   ]
  },
  {
   "cell_type": "code",
   "execution_count": 55,
   "metadata": {},
   "outputs": [],
   "source": [
    "def outsource_constraint_avl(model,m):\n",
    "    return (model3.j['A',m]<=0.3*Demand['A',m])"
   ]
  },
  {
   "cell_type": "code",
   "execution_count": 56,
   "metadata": {},
   "outputs": [],
   "source": [
    "model3.outsource_constraint_avl = Constraint(Month,rule=outsource_constraint_avl)"
   ]
  },
  {
   "cell_type": "code",
   "execution_count": 57,
   "metadata": {},
   "outputs": [],
   "source": [
    "def outsource_constraint_avl1(model3,m):\n",
    "    return (model3.j['B',m]<=0.4*Demand['B',m])"
   ]
  },
  {
   "cell_type": "code",
   "execution_count": 58,
   "metadata": {},
   "outputs": [],
   "source": [
    "model3.outsource_constraint_avl1 = Constraint(Month,rule=outsource_constraint_avl1)"
   ]
  },
  {
   "cell_type": "code",
   "execution_count": 59,
   "metadata": {},
   "outputs": [],
   "source": [
    "# Objective function\n",
    "model3.value = Objective(expr = (sum(Staff[s,m]*model3.i[s,m] for m in Month for s in State)+sum(UnitOutSourceCost[s,m]*model3.j[s,m] for m in Month for s in State))\n",
    " , sense= minimize)"
   ]
  },
  {
   "cell_type": "code",
   "execution_count": 60,
   "metadata": {},
   "outputs": [],
   "source": [
    "# Invoking the solver\n",
    "result2 = SolverFactory('glpk').solve(model3)"
   ]
  },
  {
   "cell_type": "code",
   "execution_count": 61,
   "metadata": {},
   "outputs": [
    {
     "name": "stdout",
     "output_type": "stream",
     "text": [
      "# ==========================================================\n",
      "# = Solver Results                                         =\n",
      "# ==========================================================\n",
      "# ----------------------------------------------------------\n",
      "#   Problem Information\n",
      "# ----------------------------------------------------------\n",
      "Problem: \n",
      "- Name: unknown\n",
      "  Lower bound: 19599283.3977411\n",
      "  Upper bound: 19599283.3977411\n",
      "  Number of objectives: 1\n",
      "  Number of constraints: 61\n",
      "  Number of variables: 73\n",
      "  Number of nonzeros: 97\n",
      "  Sense: minimize\n",
      "# ----------------------------------------------------------\n",
      "#   Solver Information\n",
      "# ----------------------------------------------------------\n",
      "Solver: \n",
      "- Status: ok\n",
      "  Termination condition: optimal\n",
      "  Statistics: \n",
      "    Branch and bound: \n",
      "      Number of bounded subproblems: 0\n",
      "      Number of created subproblems: 0\n",
      "  Error rc: 0\n",
      "  Time: 0.10068106651306152\n",
      "# ----------------------------------------------------------\n",
      "#   Solution Information\n",
      "# ----------------------------------------------------------\n",
      "Solution: \n",
      "- number of solutions: 0\n",
      "  number of solutions displayed: 0\n"
     ]
    }
   ],
   "source": [
    "result2.write()"
   ]
  },
  {
   "cell_type": "code",
   "execution_count": 62,
   "metadata": {},
   "outputs": [
    {
     "data": {
      "text/plain": [
       "19599283"
      ]
     },
     "execution_count": 62,
     "metadata": {},
     "output_type": "execute_result"
    }
   ],
   "source": [
    "# Print the value of the objective function\n",
    "int(model3.value())"
   ]
  },
  {
   "cell_type": "markdown",
   "metadata": {},
   "source": [
    "**`Checkpoint 2:`** The company has to spend around 19.6 m$ in total for the application approval process if the staffs are working with the minimum availability."
   ]
  },
  {
   "cell_type": "code",
   "execution_count": 63,
   "metadata": {},
   "outputs": [
    {
     "name": "stdout",
     "output_type": "stream",
     "text": [
      "[['A', 'Jan', 187, 0.0, 5240, 0.81, 935714.29], ['A', 'Feb', 131, 1463.4, 4878, 0.76, 920065.85], ['A', 'Mar', 212, 0.0, 5942, 0.75, 1061071.43], ['A', 'Apr', 77, 0.0, 2297, 0.8, 382833.33], ['A', 'May', 71, 0.0, 1992, 0.78, 355714.29], ['A', 'Jun', 61, 682.5, 2275, 0.73, 429100.0], ['A', 'Jul', 156, 1600.2, 5334, 0.68, 1065911.0], ['A', 'Aug', 91, 1011.3, 3371, 0.76, 635822.46], ['A', 'Sep', 134, 0.0, 3759, 0.81, 671250.0], ['A', 'Oct', 95, 1058.7, 3529, 0.73, 665623.69], ['A', 'Nov', 125, 1285.2, 4284, 0.68, 856086.0], ['A', 'Dec', 151, 1554.9, 5183, 0.65, 1035736.17], ['B', 'Jan', 106, 1970.8, 4927, 0.81, 779521.79], ['B', 'Feb', 61, 1051.2, 2628, 0.76, 435641.54], ['B', 'Mar', 64, 1189.6, 2974, 0.75, 470529.29], ['B', 'Apr', 47, 935.2, 2338, 0.8, 354596.67], ['B', 'May', 86, 1608.0, 4020, 0.78, 636021.43], ['B', 'Jun', 73, 1258.8, 3147, 0.73, 521675.77], ['B', 'Jul', 107, 1708.4, 4271, 0.68, 745645.42], ['B', 'Aug', 60, 1048.0, 2620, 0.76, 434315.38], ['B', 'Sep', 97, 1806.8, 4517, 0.81, 714653.93], ['B', 'Oct', 96, 1662.0, 4155, 0.73, 688771.15], ['B', 'Nov', 78, 1254.8, 3137, 0.68, 547667.92], ['B', 'Dec', 106, 1690.8, 4227, 0.65, 737963.75], ['C', 'Jan', 42, 0.0, 1162, 0.81, 183291.67], ['C', 'Feb', 0, 1967.0, 1967, 0.76, 314720.0], ['C', 'Mar', 68, 0.0, 1898, 0.75, 299386.9], ['C', 'Apr', 75, 0.0, 2261, 0.8, 332869.44], ['C', 'May', 72, 0.0, 2030, 0.78, 320208.33], ['C', 'Jun', 0, 1642.0, 1642, 0.73, 262720.0], ['C', 'Jul', 0, 2489.0, 2489, 0.68, 398240.0], ['C', 'Aug', 0, 2496.0, 2496, 0.76, 399360.0], ['C', 'Sep', 33, 0.0, 922, 0.81, 145434.52], ['C', 'Oct', 0, 2421.0, 2421, 0.73, 387360.0], ['C', 'Nov', 0, 963.0, 963, 0.68, 154080.0], ['C', 'Dec', 0, 1998.0, 1998, 0.65, 319680.0]]\n"
     ]
    }
   ],
   "source": [
    "# Creating dataframe for the results\n",
    "# For every iteration, the code below will create a list containing values of state, month, number of staff, outsourced and\n",
    "# cost for those parameters\n",
    "Output3 = []\n",
    "for s in State:\n",
    "    for m in Month:\n",
    "           \n",
    "        staff3= round(model3.i[s,m].value)\n",
    "        \n",
    "        outsource3=model3.j[s,m].value\n",
    "        \n",
    "        demand= Demand[s,m]\n",
    "        \n",
    "        staff_avl= StaffAvPer[s,m]\n",
    "        \n",
    "        Total_monthly_cost3= round(model3.i[s,m].value*Staff[s,m]+model3.j[s,m].value*UnitOutSourceCost[s,m],2)\n",
    "        \n",
    "        Output3.append([s,m,staff3,outsource3,demand,staff_avl,Total_monthly_cost3])\n",
    "        \n",
    "print(Output3)"
   ]
  },
  {
   "cell_type": "code",
   "execution_count": 64,
   "metadata": {},
   "outputs": [],
   "source": [
    "Output3 = pd.DataFrame(Output3,columns=['State', 'Month','Number of Staffs','Number of Outsource','Demand','Staff Availability','Total Monthly Cost'])"
   ]
  },
  {
   "cell_type": "code",
   "execution_count": 65,
   "metadata": {},
   "outputs": [
    {
     "data": {
      "text/html": [
       "<div>\n",
       "<style scoped>\n",
       "    .dataframe tbody tr th:only-of-type {\n",
       "        vertical-align: middle;\n",
       "    }\n",
       "\n",
       "    .dataframe tbody tr th {\n",
       "        vertical-align: top;\n",
       "    }\n",
       "\n",
       "    .dataframe thead th {\n",
       "        text-align: right;\n",
       "    }\n",
       "</style>\n",
       "<table border=\"1\" class=\"dataframe\">\n",
       "  <thead>\n",
       "    <tr style=\"text-align: right;\">\n",
       "      <th></th>\n",
       "      <th>State</th>\n",
       "      <th>Month</th>\n",
       "      <th>Number of Staffs</th>\n",
       "      <th>Number of Outsource</th>\n",
       "      <th>Demand</th>\n",
       "      <th>Staff Availability</th>\n",
       "      <th>Total Monthly Cost</th>\n",
       "    </tr>\n",
       "  </thead>\n",
       "  <tbody>\n",
       "    <tr>\n",
       "      <th>0</th>\n",
       "      <td>A</td>\n",
       "      <td>Jan</td>\n",
       "      <td>187</td>\n",
       "      <td>0.0</td>\n",
       "      <td>5240</td>\n",
       "      <td>0.81</td>\n",
       "      <td>935714.29</td>\n",
       "    </tr>\n",
       "    <tr>\n",
       "      <th>1</th>\n",
       "      <td>A</td>\n",
       "      <td>Feb</td>\n",
       "      <td>131</td>\n",
       "      <td>1463.4</td>\n",
       "      <td>4878</td>\n",
       "      <td>0.76</td>\n",
       "      <td>920065.85</td>\n",
       "    </tr>\n",
       "    <tr>\n",
       "      <th>2</th>\n",
       "      <td>A</td>\n",
       "      <td>Mar</td>\n",
       "      <td>212</td>\n",
       "      <td>0.0</td>\n",
       "      <td>5942</td>\n",
       "      <td>0.75</td>\n",
       "      <td>1061071.43</td>\n",
       "    </tr>\n",
       "    <tr>\n",
       "      <th>3</th>\n",
       "      <td>A</td>\n",
       "      <td>Apr</td>\n",
       "      <td>77</td>\n",
       "      <td>0.0</td>\n",
       "      <td>2297</td>\n",
       "      <td>0.80</td>\n",
       "      <td>382833.33</td>\n",
       "    </tr>\n",
       "    <tr>\n",
       "      <th>4</th>\n",
       "      <td>A</td>\n",
       "      <td>May</td>\n",
       "      <td>71</td>\n",
       "      <td>0.0</td>\n",
       "      <td>1992</td>\n",
       "      <td>0.78</td>\n",
       "      <td>355714.29</td>\n",
       "    </tr>\n",
       "  </tbody>\n",
       "</table>\n",
       "</div>"
      ],
      "text/plain": [
       "  State Month  Number of Staffs  Number of Outsource  Demand  \\\n",
       "0     A   Jan               187                  0.0    5240   \n",
       "1     A   Feb               131               1463.4    4878   \n",
       "2     A   Mar               212                  0.0    5942   \n",
       "3     A   Apr                77                  0.0    2297   \n",
       "4     A   May                71                  0.0    1992   \n",
       "\n",
       "   Staff Availability  Total Monthly Cost  \n",
       "0                0.81           935714.29  \n",
       "1                0.76           920065.85  \n",
       "2                0.75          1061071.43  \n",
       "3                0.80           382833.33  \n",
       "4                0.78           355714.29  "
      ]
     },
     "execution_count": 65,
     "metadata": {},
     "output_type": "execute_result"
    }
   ],
   "source": [
    "Output3.head()"
   ]
  },
  {
   "cell_type": "code",
   "execution_count": 66,
   "metadata": {},
   "outputs": [
    {
     "data": {
      "text/plain": [
       "39816.600000000006"
      ]
     },
     "execution_count": 66,
     "metadata": {},
     "output_type": "execute_result"
    }
   ],
   "source": [
    "# Finding the number of Outsource\n",
    "t_sum = Output3['Number of Outsource'].sum()\n",
    "t_sum"
   ]
  },
  {
   "cell_type": "code",
   "execution_count": 67,
   "metadata": {},
   "outputs": [
    {
     "data": {
      "text/plain": [
       "113294"
      ]
     },
     "execution_count": 67,
     "metadata": {},
     "output_type": "execute_result"
    }
   ],
   "source": [
    "# Calculating sum of total demand\n",
    "t_demand = Output3['Demand'].sum()\n",
    "t_demand"
   ]
  },
  {
   "cell_type": "code",
   "execution_count": 68,
   "metadata": {},
   "outputs": [
    {
     "data": {
      "text/plain": [
       "2762"
      ]
     },
     "execution_count": 68,
     "metadata": {},
     "output_type": "execute_result"
    }
   ],
   "source": [
    "# Optimal number of staff\n",
    "Output3['Number of Staffs'].sum()"
   ]
  },
  {
   "cell_type": "markdown",
   "metadata": {},
   "source": [
    "#### 3.1.2 Percentage of outsourced applications "
   ]
  },
  {
   "cell_type": "code",
   "execution_count": 69,
   "metadata": {},
   "outputs": [
    {
     "data": {
      "text/plain": [
       "35.14449132345933"
      ]
     },
     "execution_count": 69,
     "metadata": {},
     "output_type": "execute_result"
    }
   ],
   "source": [
    "# write your code here\n",
    "out_perc = t_sum/t_demand * 100\n",
    "out_perc"
   ]
  },
  {
   "cell_type": "markdown",
   "metadata": {},
   "source": [
    "#### 3.1.3 Average cost per application"
   ]
  },
  {
   "cell_type": "code",
   "execution_count": 70,
   "metadata": {},
   "outputs": [
    {
     "data": {
      "text/plain": [
       "544425.0"
      ]
     },
     "execution_count": 70,
     "metadata": {},
     "output_type": "execute_result"
    }
   ],
   "source": [
    "# Calculating average of monthly cost\n",
    "avg_cost = round(Output3['Total Monthly Cost'].mean(),0)\n",
    "avg_cost"
   ]
  },
  {
   "cell_type": "code",
   "execution_count": 71,
   "metadata": {},
   "outputs": [
    {
     "data": {
      "text/plain": [
       "3147.0555555555557"
      ]
     },
     "execution_count": 71,
     "metadata": {},
     "output_type": "execute_result"
    }
   ],
   "source": [
    "# Calculating average of demand\n",
    "avg_demand = Output3['Demand'].mean()\n",
    "avg_demand"
   ]
  },
  {
   "cell_type": "code",
   "execution_count": 72,
   "metadata": {},
   "outputs": [
    {
     "data": {
      "text/plain": [
       "172.9950394548696"
      ]
     },
     "execution_count": 72,
     "metadata": {},
     "output_type": "execute_result"
    }
   ],
   "source": [
    "# write your code here\n",
    "# Calculating average cost per application\n",
    "avg_cost_per_app1 = avg_cost/avg_demand\n",
    "avg_cost_per_app1"
   ]
  },
  {
   "cell_type": "markdown",
   "metadata": {},
   "source": [
    "### 3.2  Best Case Analysis "
   ]
  },
  {
   "cell_type": "markdown",
   "metadata": {},
   "source": [
    "#### 3.2.1 Optimal number of staff members"
   ]
  },
  {
   "cell_type": "code",
   "execution_count": 73,
   "metadata": {},
   "outputs": [],
   "source": [
    "# Creating a model instance\n",
    "model4 = ConcreteModel()"
   ]
  },
  {
   "cell_type": "raw",
   "metadata": {},
   "source": [
    "# Define Pyomo sets and Parameters\n",
    " number of staffs = i\n",
    " number of outsourced employees = j\n",
    " Demand = staff_availability*40*x+y\n",
    " FTE-Staff Sal = Staff\n",
    " Outsource cost = UnitOutSourceCost\n",
    " Staff availability = 40xStaffAvPer"
   ]
  },
  {
   "cell_type": "code",
   "execution_count": 74,
   "metadata": {},
   "outputs": [],
   "source": [
    "# Decision variables\n",
    "model4.k = Var(State, Month, within=PositiveReals, initialize=70000)\n",
    "model4.l = Var(State, Month, within=PositiveReals, initialize=70000)"
   ]
  },
  {
   "cell_type": "code",
   "execution_count": 75,
   "metadata": {},
   "outputs": [],
   "source": [
    "# Constraints\n",
    "def demand4(model4,s,m):\n",
    "    return (model4.k[s,m]*40*StaffAvail_UB[s,m]+model4.l[s,m])==Demand[s,m]"
   ]
  },
  {
   "cell_type": "code",
   "execution_count": 76,
   "metadata": {},
   "outputs": [],
   "source": [
    "model4.availability = Constraint(State,Month,rule=demand4)"
   ]
  },
  {
   "cell_type": "code",
   "execution_count": 77,
   "metadata": {},
   "outputs": [],
   "source": [
    "def outsource4_constraint_avl(model,m):\n",
    "    return (model4.l['A',m]<=0.3*Demand['A',m])"
   ]
  },
  {
   "cell_type": "code",
   "execution_count": 78,
   "metadata": {},
   "outputs": [],
   "source": [
    "model4.outsource4_constraint_avl = Constraint(Month,rule=outsource4_constraint_avl)"
   ]
  },
  {
   "cell_type": "code",
   "execution_count": 79,
   "metadata": {},
   "outputs": [],
   "source": [
    "def outsource4_constraint_avl1(model4,m):\n",
    "    return (model4.j['B',m]<=0.4*Demand['B',m])"
   ]
  },
  {
   "cell_type": "code",
   "execution_count": 80,
   "metadata": {},
   "outputs": [],
   "source": [
    "\n",
    "\n",
    "model4.outsource4_constraint_avl1 = Constraint(Month,rule=outsource4_constraint_avl)"
   ]
  },
  {
   "cell_type": "code",
   "execution_count": 81,
   "metadata": {},
   "outputs": [],
   "source": [
    "# Objective function\n",
    "model4.value = Objective(expr = (sum(Staff[s,m]*model4.k[s,m] for m in Month for s in State)+sum(UnitOutSourceCost[s,m]*model4.l[s,m] for m in Month for s in State))\n",
    " , sense= minimize)"
   ]
  },
  {
   "cell_type": "code",
   "execution_count": 82,
   "metadata": {},
   "outputs": [],
   "source": [
    "# Invoking the solver\n",
    "result3 = SolverFactory('glpk').solve(model4)"
   ]
  },
  {
   "cell_type": "code",
   "execution_count": 83,
   "metadata": {},
   "outputs": [
    {
     "name": "stdout",
     "output_type": "stream",
     "text": [
      "# ==========================================================\n",
      "# = Solver Results                                         =\n",
      "# ==========================================================\n",
      "# ----------------------------------------------------------\n",
      "#   Problem Information\n",
      "# ----------------------------------------------------------\n",
      "Problem: \n",
      "- Name: unknown\n",
      "  Lower bound: 16480452.8998405\n",
      "  Upper bound: 16480452.8998405\n",
      "  Number of objectives: 1\n",
      "  Number of constraints: 61\n",
      "  Number of variables: 73\n",
      "  Number of nonzeros: 97\n",
      "  Sense: minimize\n",
      "# ----------------------------------------------------------\n",
      "#   Solver Information\n",
      "# ----------------------------------------------------------\n",
      "Solver: \n",
      "- Status: ok\n",
      "  Termination condition: optimal\n",
      "  Statistics: \n",
      "    Branch and bound: \n",
      "      Number of bounded subproblems: 0\n",
      "      Number of created subproblems: 0\n",
      "  Error rc: 0\n",
      "  Time: 0.061963558197021484\n",
      "# ----------------------------------------------------------\n",
      "#   Solution Information\n",
      "# ----------------------------------------------------------\n",
      "Solution: \n",
      "- number of solutions: 0\n",
      "  number of solutions displayed: 0\n"
     ]
    }
   ],
   "source": [
    "result3.write()"
   ]
  },
  {
   "cell_type": "code",
   "execution_count": 84,
   "metadata": {},
   "outputs": [
    {
     "data": {
      "text/plain": [
       "16480452"
      ]
     },
     "execution_count": 84,
     "metadata": {},
     "output_type": "execute_result"
    }
   ],
   "source": [
    "# Print the value of the objective function\n",
    "int(model4.value())"
   ]
  },
  {
   "cell_type": "markdown",
   "metadata": {},
   "source": [
    "**`Checkpoint 3:`** The company has to spend around 16.5 m$ in total for the application approval process if the staffs are working with the maximum availability."
   ]
  },
  {
   "cell_type": "code",
   "execution_count": 85,
   "metadata": {},
   "outputs": [
    {
     "name": "stdout",
     "output_type": "stream",
     "text": [
      "[['A', 'Jan', 146, 0.0, 5240, 0.81, 727777.78], ['A', 'Feb', 143, 0.0, 4878, 0.76, 717352.94], ['A', 'Mar', 186, 0.0, 5942, 0.75, 928437.5], ['A', 'Apr', 68, 0.0, 2297, 0.8, 337794.12], ['A', 'May', 59, 0.0, 1992, 0.78, 292941.18], ['A', 'Jun', 71, 0.0, 2275, 0.73, 355468.75], ['A', 'Jul', 178, 0.0, 5334, 0.68, 889000.0], ['A', 'Aug', 99, 0.0, 3371, 0.76, 495735.29], ['A', 'Sep', 104, 0.0, 3759, 0.81, 522083.33], ['A', 'Oct', 110, 0.0, 3529, 0.73, 551406.25], ['A', 'Nov', 143, 0.0, 4284, 0.68, 714000.0], ['A', 'Dec', 185, 0.0, 5183, 0.65, 925535.71], ['B', 'Jan', 137, 0.0, 4927, 0.81, 627280.09], ['B', 'Feb', 77, 0.0, 2628, 0.76, 354264.71], ['B', 'Mar', 93, 0.0, 2974, 0.75, 425963.54], ['B', 'Apr', 69, 0.0, 2338, 0.8, 315171.57], ['B', 'May', 118, 0.0, 4020, 0.78, 541911.76], ['B', 'Jun', 98, 0.0, 3147, 0.73, 450742.19], ['B', 'Jul', 0, 4271.0, 4271, 0.68, 640650.0], ['B', 'Aug', 77, 0.0, 2620, 0.76, 353186.27], ['B', 'Sep', 125, 0.0, 4517, 0.81, 575081.02], ['B', 'Oct', 130, 0.0, 4155, 0.73, 595117.19], ['B', 'Nov', 0, 3137.0, 3137, 0.68, 470550.0], ['B', 'Dec', 0, 4227.0, 4227, 0.65, 634050.0], ['C', 'Jan', 32, 0.0, 1162, 0.81, 142560.19], ['C', 'Feb', 58, 0.0, 1967, 0.76, 255517.16], ['C', 'Mar', 59, 0.0, 1898, 0.75, 261963.54], ['C', 'Apr', 66, 0.0, 2261, 0.8, 293708.33], ['C', 'May', 60, 0.0, 2030, 0.78, 263700.98], ['C', 'Jun', 51, 0.0, 1642, 0.73, 226630.21], ['C', 'Jul', 83, 0.0, 2489, 0.68, 366436.11], ['C', 'Aug', 73, 0.0, 2496, 0.76, 324235.29], ['C', 'Sep', 26, 0.0, 922, 0.81, 113115.74], ['C', 'Oct', 76, 0.0, 2421, 0.73, 334148.44], ['C', 'Nov', 32, 0.0, 963, 0.68, 141775.0], ['C', 'Dec', 71, 0.0, 1998, 0.65, 315160.71]]\n"
     ]
    }
   ],
   "source": [
    "# Creating dataframe for the results\n",
    "# For every iteration, the code below will create a list containing values of state, month, number of staff, outsourced and\n",
    "# cost for those parameters\n",
    "Output4 = []\n",
    "for s in State:\n",
    "    for m in Month:\n",
    "        \n",
    "       \n",
    "        staff4= round(model4.k[s,m].value)\n",
    "        \n",
    "        \n",
    "        outsource4=model4.l[s,m].value\n",
    "        \n",
    "        demand= Demand[s,m]\n",
    "        \n",
    "        staff_avl= StaffAvPer[s,m]\n",
    "        \n",
    "        Total_monthly_cost4= round(model4.k[s,m].value*Staff[s,m]+model4.l[s,m].value*UnitOutSourceCost[s,m],2)\n",
    "        \n",
    "        Output4.append([s,m,staff4,outsource4,demand,staff_avl,Total_monthly_cost4])\n",
    "        \n",
    "print(Output4)"
   ]
  },
  {
   "cell_type": "code",
   "execution_count": 86,
   "metadata": {},
   "outputs": [],
   "source": [
    "Output4 = pd.DataFrame(Output4,columns=['State', 'Month','Number of Staffs','Number of Outsource','Demand','Staff Availability','Total Monthly Cost'])"
   ]
  },
  {
   "cell_type": "code",
   "execution_count": 87,
   "metadata": {},
   "outputs": [
    {
     "data": {
      "text/html": [
       "<div>\n",
       "<style scoped>\n",
       "    .dataframe tbody tr th:only-of-type {\n",
       "        vertical-align: middle;\n",
       "    }\n",
       "\n",
       "    .dataframe tbody tr th {\n",
       "        vertical-align: top;\n",
       "    }\n",
       "\n",
       "    .dataframe thead th {\n",
       "        text-align: right;\n",
       "    }\n",
       "</style>\n",
       "<table border=\"1\" class=\"dataframe\">\n",
       "  <thead>\n",
       "    <tr style=\"text-align: right;\">\n",
       "      <th></th>\n",
       "      <th>State</th>\n",
       "      <th>Month</th>\n",
       "      <th>Number of Staffs</th>\n",
       "      <th>Number of Outsource</th>\n",
       "      <th>Demand</th>\n",
       "      <th>Staff Availability</th>\n",
       "      <th>Total Monthly Cost</th>\n",
       "    </tr>\n",
       "  </thead>\n",
       "  <tbody>\n",
       "    <tr>\n",
       "      <th>0</th>\n",
       "      <td>A</td>\n",
       "      <td>Jan</td>\n",
       "      <td>146</td>\n",
       "      <td>0.0</td>\n",
       "      <td>5240</td>\n",
       "      <td>0.81</td>\n",
       "      <td>727777.78</td>\n",
       "    </tr>\n",
       "    <tr>\n",
       "      <th>1</th>\n",
       "      <td>A</td>\n",
       "      <td>Feb</td>\n",
       "      <td>143</td>\n",
       "      <td>0.0</td>\n",
       "      <td>4878</td>\n",
       "      <td>0.76</td>\n",
       "      <td>717352.94</td>\n",
       "    </tr>\n",
       "    <tr>\n",
       "      <th>2</th>\n",
       "      <td>A</td>\n",
       "      <td>Mar</td>\n",
       "      <td>186</td>\n",
       "      <td>0.0</td>\n",
       "      <td>5942</td>\n",
       "      <td>0.75</td>\n",
       "      <td>928437.50</td>\n",
       "    </tr>\n",
       "    <tr>\n",
       "      <th>3</th>\n",
       "      <td>A</td>\n",
       "      <td>Apr</td>\n",
       "      <td>68</td>\n",
       "      <td>0.0</td>\n",
       "      <td>2297</td>\n",
       "      <td>0.80</td>\n",
       "      <td>337794.12</td>\n",
       "    </tr>\n",
       "    <tr>\n",
       "      <th>4</th>\n",
       "      <td>A</td>\n",
       "      <td>May</td>\n",
       "      <td>59</td>\n",
       "      <td>0.0</td>\n",
       "      <td>1992</td>\n",
       "      <td>0.78</td>\n",
       "      <td>292941.18</td>\n",
       "    </tr>\n",
       "  </tbody>\n",
       "</table>\n",
       "</div>"
      ],
      "text/plain": [
       "  State Month  Number of Staffs  Number of Outsource  Demand  \\\n",
       "0     A   Jan               146                  0.0    5240   \n",
       "1     A   Feb               143                  0.0    4878   \n",
       "2     A   Mar               186                  0.0    5942   \n",
       "3     A   Apr                68                  0.0    2297   \n",
       "4     A   May                59                  0.0    1992   \n",
       "\n",
       "   Staff Availability  Total Monthly Cost  \n",
       "0                0.81           727777.78  \n",
       "1                0.76           717352.94  \n",
       "2                0.75           928437.50  \n",
       "3                0.80           337794.12  \n",
       "4                0.78           292941.18  "
      ]
     },
     "execution_count": 87,
     "metadata": {},
     "output_type": "execute_result"
    }
   ],
   "source": [
    "Output4.head()"
   ]
  },
  {
   "cell_type": "code",
   "execution_count": 88,
   "metadata": {},
   "outputs": [
    {
     "data": {
      "text/plain": [
       "11635.0"
      ]
     },
     "execution_count": 88,
     "metadata": {},
     "output_type": "execute_result"
    }
   ],
   "source": [
    "# Calculating sum of outsourced\n",
    "total_out = Output4['Number of Outsource'].sum()\n",
    "total_out"
   ]
  },
  {
   "cell_type": "code",
   "execution_count": 89,
   "metadata": {},
   "outputs": [
    {
     "data": {
      "text/plain": [
       "3103"
      ]
     },
     "execution_count": 89,
     "metadata": {},
     "output_type": "execute_result"
    }
   ],
   "source": [
    "# Calculating total number of staff\n",
    "total_staff = Output4['Number of Staffs'].sum()\n",
    "total_staff"
   ]
  },
  {
   "cell_type": "code",
   "execution_count": 90,
   "metadata": {},
   "outputs": [
    {
     "data": {
      "text/plain": [
       "113294"
      ]
     },
     "execution_count": 90,
     "metadata": {},
     "output_type": "execute_result"
    }
   ],
   "source": [
    "# Calculating sum of demand\n",
    "total_demand = Output4['Demand'].sum()\n",
    "total_demand"
   ]
  },
  {
   "cell_type": "code",
   "execution_count": 91,
   "metadata": {},
   "outputs": [
    {
     "data": {
      "text/plain": [
       "3103"
      ]
     },
     "execution_count": 91,
     "metadata": {},
     "output_type": "execute_result"
    }
   ],
   "source": [
    "# Optimal number of staffs for best case\n",
    "\n",
    "Output4['Number of Staffs'].sum()"
   ]
  },
  {
   "cell_type": "markdown",
   "metadata": {},
   "source": [
    "#### 3.2.2 Percentage of outsourced applications"
   ]
  },
  {
   "cell_type": "code",
   "execution_count": 92,
   "metadata": {},
   "outputs": [
    {
     "data": {
      "text/plain": [
       "10.26974067470475"
      ]
     },
     "execution_count": 92,
     "metadata": {},
     "output_type": "execute_result"
    }
   ],
   "source": [
    "# write your code here\n",
    "perc_out = total_out/total_demand * 100\n",
    "perc_out"
   ]
  },
  {
   "cell_type": "markdown",
   "metadata": {},
   "source": [
    "#### 3.2.3 Average cost per application"
   ]
  },
  {
   "cell_type": "code",
   "execution_count": 93,
   "metadata": {},
   "outputs": [
    {
     "data": {
      "text/plain": [
       "457790.3580555555"
      ]
     },
     "execution_count": 93,
     "metadata": {},
     "output_type": "execute_result"
    }
   ],
   "source": [
    "# Calculating average of monthly cost\n",
    "avg_total_cost2 = Output4['Total Monthly Cost'].mean()\n",
    "avg_total_cost2"
   ]
  },
  {
   "cell_type": "code",
   "execution_count": 94,
   "metadata": {},
   "outputs": [
    {
     "data": {
      "text/plain": [
       "3147.0555555555557"
      ]
     },
     "execution_count": 94,
     "metadata": {},
     "output_type": "execute_result"
    }
   ],
   "source": [
    "# Calculating average of demand\n",
    "avg_demand2 = Output4['Demand'].mean()\n",
    "avg_demand2"
   ]
  },
  {
   "cell_type": "code",
   "execution_count": 95,
   "metadata": {},
   "outputs": [
    {
     "data": {
      "text/plain": [
       "145.46624613836565"
      ]
     },
     "execution_count": 95,
     "metadata": {},
     "output_type": "execute_result"
    }
   ],
   "source": [
    "# write your code here\n",
    "# Calculating average of cost per application\n",
    "avg_cost_per_app2 = avg_total_cost2/avg_demand2\n",
    "avg_cost_per_app2"
   ]
  },
  {
   "cell_type": "markdown",
   "metadata": {},
   "source": [
    "\n",
    "# Question 4\n",
    "\n",
    "#### Creating Visualisations"
   ]
  },
  {
   "cell_type": "markdown",
   "metadata": {},
   "source": [
    "Create the following visualisations using your preferred method (i.e. Python, PowerPoint, Power BI, etc.) and add it to your report. \n",
    "\n",
    "Use the solution of Q2 to create a stacked column chart that shows the percentage of applications processed by the staff and by the vendor for each month (%staff processed applications+ %vendor processed applications should add up to 100%). \n",
    "Create a graph to show how the cost per application increases with respect to any change in the parameters in your analysis.\n",
    "Hint: Use the cost per application that you calculate in Questions 2 and 3 (i.e., the actual scenario, the best case, and the worst case). "
   ]
  },
  {
   "cell_type": "markdown",
   "metadata": {},
   "source": [
    "**Note:** You can create the charts in Python or some other visualisation tools and make it a part of your final report directly."
   ]
  },
  {
   "cell_type": "code",
   "execution_count": 96,
   "metadata": {},
   "outputs": [],
   "source": [
    "Output[\"Percent Staff Appl\"]=Output[\"Staff Applications\"]*100/Output[\"Demand\"]\n",
    "Output['Cost_per_appl_best'] = Output4['Total Monthly Cost']/Output4['Demand']\n",
    "Output['Cost_per_appl_worst'] = Output3['Total Monthly Cost']/Output3['Demand']"
   ]
  },
  {
   "cell_type": "code",
   "execution_count": 97,
   "metadata": {},
   "outputs": [
    {
     "data": {
      "text/html": [
       "<div>\n",
       "<style scoped>\n",
       "    .dataframe tbody tr th:only-of-type {\n",
       "        vertical-align: middle;\n",
       "    }\n",
       "\n",
       "    .dataframe tbody tr th {\n",
       "        vertical-align: top;\n",
       "    }\n",
       "\n",
       "    .dataframe thead th {\n",
       "        text-align: right;\n",
       "    }\n",
       "</style>\n",
       "<table border=\"1\" class=\"dataframe\">\n",
       "  <thead>\n",
       "    <tr style=\"text-align: right;\">\n",
       "      <th></th>\n",
       "      <th>State</th>\n",
       "      <th>Month</th>\n",
       "      <th>Number of Staffs</th>\n",
       "      <th>Number of Outsource</th>\n",
       "      <th>Total Monthly Cost</th>\n",
       "      <th>Staff Applications</th>\n",
       "      <th>Demand</th>\n",
       "      <th>Per Application Cost</th>\n",
       "      <th>Staff Cost</th>\n",
       "      <th>Outsource cost</th>\n",
       "      <th>Percent Staff Appl</th>\n",
       "      <th>Cost_per_appl_best</th>\n",
       "      <th>Cost_per_appl_worst</th>\n",
       "    </tr>\n",
       "  </thead>\n",
       "  <tbody>\n",
       "    <tr>\n",
       "      <th>0</th>\n",
       "      <td>A</td>\n",
       "      <td>Jan</td>\n",
       "      <td>161.728395</td>\n",
       "      <td>0.0</td>\n",
       "      <td>808641.975309</td>\n",
       "      <td>5240.0</td>\n",
       "      <td>5240</td>\n",
       "      <td>305.0</td>\n",
       "      <td>5000.0</td>\n",
       "      <td>180</td>\n",
       "      <td>100.0</td>\n",
       "      <td>138.888889</td>\n",
       "      <td>178.571429</td>\n",
       "    </tr>\n",
       "    <tr>\n",
       "      <th>1</th>\n",
       "      <td>A</td>\n",
       "      <td>Feb</td>\n",
       "      <td>160.460526</td>\n",
       "      <td>0.0</td>\n",
       "      <td>802302.631579</td>\n",
       "      <td>4878.0</td>\n",
       "      <td>4878</td>\n",
       "      <td>305.0</td>\n",
       "      <td>5000.0</td>\n",
       "      <td>180</td>\n",
       "      <td>100.0</td>\n",
       "      <td>147.058823</td>\n",
       "      <td>188.615385</td>\n",
       "    </tr>\n",
       "    <tr>\n",
       "      <th>2</th>\n",
       "      <td>A</td>\n",
       "      <td>Mar</td>\n",
       "      <td>198.066667</td>\n",
       "      <td>0.0</td>\n",
       "      <td>990333.333333</td>\n",
       "      <td>5942.0</td>\n",
       "      <td>5942</td>\n",
       "      <td>305.0</td>\n",
       "      <td>5000.0</td>\n",
       "      <td>180</td>\n",
       "      <td>100.0</td>\n",
       "      <td>156.250000</td>\n",
       "      <td>178.571429</td>\n",
       "    </tr>\n",
       "    <tr>\n",
       "      <th>3</th>\n",
       "      <td>A</td>\n",
       "      <td>Apr</td>\n",
       "      <td>71.781250</td>\n",
       "      <td>0.0</td>\n",
       "      <td>358906.250000</td>\n",
       "      <td>2297.0</td>\n",
       "      <td>2297</td>\n",
       "      <td>305.0</td>\n",
       "      <td>5000.0</td>\n",
       "      <td>180</td>\n",
       "      <td>100.0</td>\n",
       "      <td>147.058825</td>\n",
       "      <td>166.666665</td>\n",
       "    </tr>\n",
       "    <tr>\n",
       "      <th>4</th>\n",
       "      <td>A</td>\n",
       "      <td>May</td>\n",
       "      <td>63.846154</td>\n",
       "      <td>0.0</td>\n",
       "      <td>319230.769231</td>\n",
       "      <td>1992.0</td>\n",
       "      <td>1992</td>\n",
       "      <td>305.0</td>\n",
       "      <td>5000.0</td>\n",
       "      <td>180</td>\n",
       "      <td>100.0</td>\n",
       "      <td>147.058825</td>\n",
       "      <td>178.571431</td>\n",
       "    </tr>\n",
       "  </tbody>\n",
       "</table>\n",
       "</div>"
      ],
      "text/plain": [
       "  State Month  Number of Staffs  Number of Outsource  Total Monthly Cost  \\\n",
       "0     A   Jan        161.728395                  0.0       808641.975309   \n",
       "1     A   Feb        160.460526                  0.0       802302.631579   \n",
       "2     A   Mar        198.066667                  0.0       990333.333333   \n",
       "3     A   Apr         71.781250                  0.0       358906.250000   \n",
       "4     A   May         63.846154                  0.0       319230.769231   \n",
       "\n",
       "   Staff Applications  Demand  Per Application Cost  Staff Cost  \\\n",
       "0              5240.0    5240                 305.0      5000.0   \n",
       "1              4878.0    4878                 305.0      5000.0   \n",
       "2              5942.0    5942                 305.0      5000.0   \n",
       "3              2297.0    2297                 305.0      5000.0   \n",
       "4              1992.0    1992                 305.0      5000.0   \n",
       "\n",
       "   Outsource cost  Percent Staff Appl  Cost_per_appl_best  Cost_per_appl_worst  \n",
       "0             180               100.0          138.888889           178.571429  \n",
       "1             180               100.0          147.058823           188.615385  \n",
       "2             180               100.0          156.250000           178.571429  \n",
       "3             180               100.0          147.058825           166.666665  \n",
       "4             180               100.0          147.058825           178.571431  "
      ]
     },
     "execution_count": 97,
     "metadata": {},
     "output_type": "execute_result"
    }
   ],
   "source": [
    "Output.head()"
   ]
  },
  {
   "cell_type": "code",
   "execution_count": 98,
   "metadata": {},
   "outputs": [],
   "source": [
    "Output[\"Percent Outsource Appl\"]=Output[\"Number of Outsource\"]*100/Output[\"Demand\"]"
   ]
  },
  {
   "cell_type": "code",
   "execution_count": 99,
   "metadata": {},
   "outputs": [
    {
     "data": {
      "text/html": [
       "<div>\n",
       "<style scoped>\n",
       "    .dataframe tbody tr th:only-of-type {\n",
       "        vertical-align: middle;\n",
       "    }\n",
       "\n",
       "    .dataframe tbody tr th {\n",
       "        vertical-align: top;\n",
       "    }\n",
       "\n",
       "    .dataframe thead th {\n",
       "        text-align: right;\n",
       "    }\n",
       "</style>\n",
       "<table border=\"1\" class=\"dataframe\">\n",
       "  <thead>\n",
       "    <tr style=\"text-align: right;\">\n",
       "      <th></th>\n",
       "      <th>State</th>\n",
       "      <th>Month</th>\n",
       "      <th>Number of Staffs</th>\n",
       "      <th>Number of Outsource</th>\n",
       "      <th>Total Monthly Cost</th>\n",
       "      <th>Staff Applications</th>\n",
       "      <th>Demand</th>\n",
       "      <th>Per Application Cost</th>\n",
       "      <th>Staff Cost</th>\n",
       "      <th>Outsource cost</th>\n",
       "      <th>Percent Staff Appl</th>\n",
       "      <th>Cost_per_appl_best</th>\n",
       "      <th>Cost_per_appl_worst</th>\n",
       "      <th>Percent Outsource Appl</th>\n",
       "    </tr>\n",
       "  </thead>\n",
       "  <tbody>\n",
       "    <tr>\n",
       "      <th>0</th>\n",
       "      <td>A</td>\n",
       "      <td>Jan</td>\n",
       "      <td>161.728395</td>\n",
       "      <td>0.0</td>\n",
       "      <td>808641.975309</td>\n",
       "      <td>5240.0</td>\n",
       "      <td>5240</td>\n",
       "      <td>305.0</td>\n",
       "      <td>5000.0</td>\n",
       "      <td>180</td>\n",
       "      <td>100.0</td>\n",
       "      <td>138.888889</td>\n",
       "      <td>178.571429</td>\n",
       "      <td>0.0</td>\n",
       "    </tr>\n",
       "    <tr>\n",
       "      <th>1</th>\n",
       "      <td>A</td>\n",
       "      <td>Feb</td>\n",
       "      <td>160.460526</td>\n",
       "      <td>0.0</td>\n",
       "      <td>802302.631579</td>\n",
       "      <td>4878.0</td>\n",
       "      <td>4878</td>\n",
       "      <td>305.0</td>\n",
       "      <td>5000.0</td>\n",
       "      <td>180</td>\n",
       "      <td>100.0</td>\n",
       "      <td>147.058823</td>\n",
       "      <td>188.615385</td>\n",
       "      <td>0.0</td>\n",
       "    </tr>\n",
       "    <tr>\n",
       "      <th>2</th>\n",
       "      <td>A</td>\n",
       "      <td>Mar</td>\n",
       "      <td>198.066667</td>\n",
       "      <td>0.0</td>\n",
       "      <td>990333.333333</td>\n",
       "      <td>5942.0</td>\n",
       "      <td>5942</td>\n",
       "      <td>305.0</td>\n",
       "      <td>5000.0</td>\n",
       "      <td>180</td>\n",
       "      <td>100.0</td>\n",
       "      <td>156.250000</td>\n",
       "      <td>178.571429</td>\n",
       "      <td>0.0</td>\n",
       "    </tr>\n",
       "    <tr>\n",
       "      <th>3</th>\n",
       "      <td>A</td>\n",
       "      <td>Apr</td>\n",
       "      <td>71.781250</td>\n",
       "      <td>0.0</td>\n",
       "      <td>358906.250000</td>\n",
       "      <td>2297.0</td>\n",
       "      <td>2297</td>\n",
       "      <td>305.0</td>\n",
       "      <td>5000.0</td>\n",
       "      <td>180</td>\n",
       "      <td>100.0</td>\n",
       "      <td>147.058825</td>\n",
       "      <td>166.666665</td>\n",
       "      <td>0.0</td>\n",
       "    </tr>\n",
       "    <tr>\n",
       "      <th>4</th>\n",
       "      <td>A</td>\n",
       "      <td>May</td>\n",
       "      <td>63.846154</td>\n",
       "      <td>0.0</td>\n",
       "      <td>319230.769231</td>\n",
       "      <td>1992.0</td>\n",
       "      <td>1992</td>\n",
       "      <td>305.0</td>\n",
       "      <td>5000.0</td>\n",
       "      <td>180</td>\n",
       "      <td>100.0</td>\n",
       "      <td>147.058825</td>\n",
       "      <td>178.571431</td>\n",
       "      <td>0.0</td>\n",
       "    </tr>\n",
       "    <tr>\n",
       "      <th>5</th>\n",
       "      <td>A</td>\n",
       "      <td>Jun</td>\n",
       "      <td>77.910959</td>\n",
       "      <td>0.0</td>\n",
       "      <td>389554.794521</td>\n",
       "      <td>2275.0</td>\n",
       "      <td>2275</td>\n",
       "      <td>305.0</td>\n",
       "      <td>5000.0</td>\n",
       "      <td>180</td>\n",
       "      <td>100.0</td>\n",
       "      <td>156.250000</td>\n",
       "      <td>188.615385</td>\n",
       "      <td>0.0</td>\n",
       "    </tr>\n",
       "    <tr>\n",
       "      <th>6</th>\n",
       "      <td>A</td>\n",
       "      <td>Jul</td>\n",
       "      <td>137.272059</td>\n",
       "      <td>1600.2</td>\n",
       "      <td>974396.294118</td>\n",
       "      <td>3733.8</td>\n",
       "      <td>5334</td>\n",
       "      <td>305.0</td>\n",
       "      <td>5000.0</td>\n",
       "      <td>180</td>\n",
       "      <td>70.0</td>\n",
       "      <td>166.666667</td>\n",
       "      <td>199.833333</td>\n",
       "      <td>30.0</td>\n",
       "    </tr>\n",
       "    <tr>\n",
       "      <th>7</th>\n",
       "      <td>A</td>\n",
       "      <td>Aug</td>\n",
       "      <td>110.888158</td>\n",
       "      <td>0.0</td>\n",
       "      <td>554440.789474</td>\n",
       "      <td>3371.0</td>\n",
       "      <td>3371</td>\n",
       "      <td>305.0</td>\n",
       "      <td>5000.0</td>\n",
       "      <td>180</td>\n",
       "      <td>100.0</td>\n",
       "      <td>147.058822</td>\n",
       "      <td>188.615384</td>\n",
       "      <td>0.0</td>\n",
       "    </tr>\n",
       "    <tr>\n",
       "      <th>8</th>\n",
       "      <td>A</td>\n",
       "      <td>Sep</td>\n",
       "      <td>116.018519</td>\n",
       "      <td>0.0</td>\n",
       "      <td>580092.592593</td>\n",
       "      <td>3759.0</td>\n",
       "      <td>3759</td>\n",
       "      <td>305.0</td>\n",
       "      <td>5000.0</td>\n",
       "      <td>180</td>\n",
       "      <td>100.0</td>\n",
       "      <td>138.888888</td>\n",
       "      <td>178.571429</td>\n",
       "      <td>0.0</td>\n",
       "    </tr>\n",
       "    <tr>\n",
       "      <th>9</th>\n",
       "      <td>A</td>\n",
       "      <td>Oct</td>\n",
       "      <td>120.856164</td>\n",
       "      <td>0.0</td>\n",
       "      <td>604280.821918</td>\n",
       "      <td>3529.0</td>\n",
       "      <td>3529</td>\n",
       "      <td>305.0</td>\n",
       "      <td>5000.0</td>\n",
       "      <td>180</td>\n",
       "      <td>100.0</td>\n",
       "      <td>156.250000</td>\n",
       "      <td>188.615384</td>\n",
       "      <td>0.0</td>\n",
       "    </tr>\n",
       "  </tbody>\n",
       "</table>\n",
       "</div>"
      ],
      "text/plain": [
       "  State Month  Number of Staffs  Number of Outsource  Total Monthly Cost  \\\n",
       "0     A   Jan        161.728395                  0.0       808641.975309   \n",
       "1     A   Feb        160.460526                  0.0       802302.631579   \n",
       "2     A   Mar        198.066667                  0.0       990333.333333   \n",
       "3     A   Apr         71.781250                  0.0       358906.250000   \n",
       "4     A   May         63.846154                  0.0       319230.769231   \n",
       "5     A   Jun         77.910959                  0.0       389554.794521   \n",
       "6     A   Jul        137.272059               1600.2       974396.294118   \n",
       "7     A   Aug        110.888158                  0.0       554440.789474   \n",
       "8     A   Sep        116.018519                  0.0       580092.592593   \n",
       "9     A   Oct        120.856164                  0.0       604280.821918   \n",
       "\n",
       "   Staff Applications  Demand  Per Application Cost  Staff Cost  \\\n",
       "0              5240.0    5240                 305.0      5000.0   \n",
       "1              4878.0    4878                 305.0      5000.0   \n",
       "2              5942.0    5942                 305.0      5000.0   \n",
       "3              2297.0    2297                 305.0      5000.0   \n",
       "4              1992.0    1992                 305.0      5000.0   \n",
       "5              2275.0    2275                 305.0      5000.0   \n",
       "6              3733.8    5334                 305.0      5000.0   \n",
       "7              3371.0    3371                 305.0      5000.0   \n",
       "8              3759.0    3759                 305.0      5000.0   \n",
       "9              3529.0    3529                 305.0      5000.0   \n",
       "\n",
       "   Outsource cost  Percent Staff Appl  Cost_per_appl_best  \\\n",
       "0             180               100.0          138.888889   \n",
       "1             180               100.0          147.058823   \n",
       "2             180               100.0          156.250000   \n",
       "3             180               100.0          147.058825   \n",
       "4             180               100.0          147.058825   \n",
       "5             180               100.0          156.250000   \n",
       "6             180                70.0          166.666667   \n",
       "7             180               100.0          147.058822   \n",
       "8             180               100.0          138.888888   \n",
       "9             180               100.0          156.250000   \n",
       "\n",
       "   Cost_per_appl_worst  Percent Outsource Appl  \n",
       "0           178.571429                     0.0  \n",
       "1           188.615385                     0.0  \n",
       "2           178.571429                     0.0  \n",
       "3           166.666665                     0.0  \n",
       "4           178.571431                     0.0  \n",
       "5           188.615385                     0.0  \n",
       "6           199.833333                    30.0  \n",
       "7           188.615384                     0.0  \n",
       "8           178.571429                     0.0  \n",
       "9           188.615384                     0.0  "
      ]
     },
     "execution_count": 99,
     "metadata": {},
     "output_type": "execute_result"
    }
   ],
   "source": [
    "Output.head(10)"
   ]
  },
  {
   "cell_type": "code",
   "execution_count": 100,
   "metadata": {},
   "outputs": [
    {
     "data": {
      "image/png": "[encoded data removed]",
      "text/plain": [
       "<Figure size 432x288 with 1 Axes>"
      ]
     },
     "metadata": {
      "needs_background": "light"
     },
     "output_type": "display_data"
    }
   ],
   "source": [
    "import matplotlib.pyplot as plt\n",
    "# the first call is as usual\n",
    "plt.bar(Output[\"Month\"], Output[\"Percent Staff Appl\"], color=\"#00AF00\")\n",
    "\n",
    "# the second one is special to create stacked bar plots\n",
    "plt.bar(Output[\"Month\"], Output[\"Percent Outsource Appl\"], bottom=Output[\"Percent Staff Appl\"], color=\"#E50000\")\n",
    "\n",
    "plt.xlabel('Month')  \n",
    "plt.ylabel('Percentage')\n",
    "\n",
    "plt.show() "
   ]
  },
  {
   "cell_type": "code",
   "execution_count": 101,
   "metadata": {},
   "outputs": [
    {
     "data": {
      "image/png": "[encoded data removed]",
      "text/plain": [
       "<Figure size 432x288 with 1 Axes>"
      ]
     },
     "metadata": {
      "needs_background": "light"
     },
     "output_type": "display_data"
    }
   ],
   "source": [
    "plt.plot(Output['Demand'],Output['Per Application Cost'])\n",
    "plt.title('Cost per application with respect to demand', fontsize=14)\n",
    "plt.xlabel('Demand', fontsize=14)\n",
    "plt.ylabel('Per Application Cost', fontsize=14)\n",
    "plt.grid(True)\n",
    "plt.show()"
   ]
  },
  {
   "cell_type": "code",
   "execution_count": 102,
   "metadata": {},
   "outputs": [
    {
     "data": {
      "text/plain": [
       "<AxesSubplot:xlabel='Demand'>"
      ]
     },
     "execution_count": 102,
     "metadata": {},
     "output_type": "execute_result"
    },
    {
     "data": {
      "image/png": "[encoded data removed]",
      "text/plain": [
       "<Figure size 432x288 with 1 Axes>"
      ]
     },
     "metadata": {
      "needs_background": "light"
     },
     "output_type": "display_data"
    }
   ],
   "source": [
    "Output.plot('Demand',['Per Application Cost','Cost_per_appl_best','Cost_per_appl_worst'],kind = 'line')"
   ]
  }
 ],
 "metadata": {
  "kernelspec": {
   "display_name": "Python 3",
   "language": "python",
   "name": "python3"
  },
  "language_info": {
   "codemirror_mode": {
    "name": "ipython",
    "version": 3
   },
   "file_extension": ".py",
   "mimetype": "text/x-python",
   "name": "python",
   "nbconvert_exporter": "python",
   "pygments_lexer": "ipython3",
   "version": "3.8.5"
  }
 },
 "nbformat": 4,
 "nbformat_minor": 2
}
